{
 "cells": [
  {
   "cell_type": "markdown",
   "id": "be7390ef",
   "metadata": {
    "_execution_state": "idle",
    "_uuid": "051d70d956493feee0c6d64651c6a088724dca2a",
    "papermill": {
     "duration": 0.008013,
     "end_time": "2023-10-16T16:44:07.842897",
     "exception": false,
     "start_time": "2023-10-16T16:44:07.834884",
     "status": "completed"
    },
    "tags": []
   },
   "source": [
    "------------------------------------------------------------------------\n",
    "\n",
    "# **Exploring Dominant Artists in Spotify Songs and Playlists**\n",
    "\n",
    "------------------------------------------------------------------------\n",
    "\n",
    "**Author:** Yashwanth N <br> **Date:** 14/10/2023\n",
    "\n",
    "Hello Everyone, Here I am going to follow a traditional approach of Data Analytics to find the dominant artist in Top spotify songs and extracts their insights. This Traditional Approach includes 6 phases of Data Analytics ASK:PREPARE:PROCESS:ANALYZE:SHARE:ACT.\n",
    "\n",
    "***Scenario***\n",
    "\n",
    "In today's ever:evolving music landscape, the question of who dominates Spotify playlists has become an intriguing puzzle. With millions of users streaming songs daily, understanding the dynamic interplay of artists, genres, and trends within Spotify's playlists has never been more critical.\n",
    "\n",
    "Our project embarks on a journey to unravel this musical tapestry. We'll dive deep into Spotify's vast dataset, collecting and analyzing data on playlist compositions, user preferences, and listening habits. With this treasure trove of information, we aim to identify the artists, songs, and genres that wield the most influence over Spotify's playlists.\n",
    "\n",
    "By combining data analytics, machine learning, and statistical techniques, we will not only unveil the current dominators but also gain insights into the factors driving their prominence. Whether it's the catchy hooks of a viral sensation or the enduring classics of a legendary artist, our project will provide a comprehensive view of who holds the Spotify playlist throne in today's music world.\n",
    "\n",
    "***About the Company***\n",
    "\n",
    "Spotify, a global music streaming service, has transformed the way we consume and discover music. Launched in 2008, it boasts a vast catalog of songs, podcasts, and audio content. With millions of users worldwide, Spotify offers both free and premium subscription options, allowing listeners to access their favorite tunes on:demand, create personalized playlists, and explore a rich tapestry of genres. The platform employs advanced algorithms to curate tailored music recommendations, enhancing the user experience. Spotify has revolutionized the music industry, providing artists a unique platform to share their work and enabling users to enjoy music anytime, anywhere, making it a ubiquitous presence in the digital music landscape. Click here to visit [Spotify](https://open.spotify.com/)\n",
    "\n",
    "Data analytics is integral to Spotify's operations. It enables personalized playlists, recommendation systems, and content curation based on user preferences and listening history. This <data:driven> approach enhances the user experience and keeps users engaged. Additionally, analytics informs user interface design, feature development, and content licensing decisions. Spotify also employs data analytics to track industry trends, artist performance, and emerging genres for strategic planning. For ad:supported users, analytics helps target advertisements effectively. In essence, data analytics is a cornerstone of Spotify's success, shaping the platform's content and user interactions while driving informed business decisions.\n",
    "\n",
    "***Objective of my Case Study***\n",
    "\n",
    "This case study mainly focuses on the following:\n",
    "\n",
    "1.  Determining the current dominant artists, songs, or genres within Spotify playlists.\n",
    "2.  Explore the factors and trends contributing to their prominence.\n",
    "\n",
    "<br>\n",
    "\n",
    "------------------------------------------------------------------------\n",
    "\n",
    "# **Ask**\n",
    "\n",
    "------------------------------------------------------------------------\n",
    "\n",
    "**Bussiness Task:** In order to determine the current dominant artist, songs or generes within spotify playlist, I will use a traditional approach of data analytics, perform a couple of analysis and try to find patterns and extract the valuable insights.\n",
    "\n",
    "**Expected Outcome:** By the end of this project, I will be able to declare the dominat artists, songs or generes.\n",
    "\n",
    "<br>\n",
    "\n",
    "------------------------------------------------------------------------\n",
    "\n",
    "# **Prepare**\n",
    "\n",
    "------------------------------------------------------------------------\n",
    "\n",
    "**About the dataset:** In the realm of music streaming, our focus is on one of the industry's giants. With a vast dataset painstakingly acquired through web scraping, we've compiled extensive stream metrics for artists and their songs. The central query: who claims the throne as the most:streamed on this prominent platform? Our mission is to reveal the top:tier artists who have garnered unparalleled streaming success, providing valuable insights into the contemporary music landscape on this major streaming platform.\n",
    "\n",
    "Here is the detailed information about the columns included in this [dataset](https://www.kaggle.com/datasets/rakkesharv/spotify-top-10000-streamed-songs/).\n",
    "\n",
    "**Position:** Spotify Ranking\n",
    "\n",
    "**Artist Name:** Artist Name\n",
    "\n",
    "**Song Name:** Song Name\n",
    "\n",
    "**Days:** No of days since the release of the song (Updated)\n",
    "\n",
    "**Top 10 (n Times):** No of times inside top 10\n",
    "\n",
    "**Peak Position:** : Peak position attained\n",
    "\n",
    "**Peak Position (n Times):** No of times Peak position attained\n",
    "\n",
    "**Peak Streams:** Total no of streams during Peak position\n",
    "\n",
    "**Total Streams:** Total song streams\n",
    "\n",
    "<br>\n",
    "\n",
    "#### **Loading the required packages**"
   ]
  },
  {
   "cell_type": "code",
   "execution_count": 1,
   "id": "3e65dced",
   "metadata": {
    "execution": {
     "iopub.execute_input": "2023-10-16T16:44:07.860117Z",
     "iopub.status.busy": "2023-10-16T16:44:07.857933Z",
     "iopub.status.idle": "2023-10-16T16:44:09.519030Z",
     "shell.execute_reply": "2023-10-16T16:44:09.517199Z"
    },
    "papermill": {
     "duration": 1.672263,
     "end_time": "2023-10-16T16:44:09.521675",
     "exception": false,
     "start_time": "2023-10-16T16:44:07.849412",
     "status": "completed"
    },
    "tags": []
   },
   "outputs": [
    {
     "name": "stderr",
     "output_type": "stream",
     "text": [
      "── \u001b[1mAttaching core tidyverse packages\u001b[22m ──────────────────────── tidyverse 2.0.0 ──\n",
      "\u001b[32m✔\u001b[39m \u001b[34mdplyr    \u001b[39m 1.1.2     \u001b[32m✔\u001b[39m \u001b[34mreadr    \u001b[39m 2.1.4\n",
      "\u001b[32m✔\u001b[39m \u001b[34mforcats  \u001b[39m 1.0.0     \u001b[32m✔\u001b[39m \u001b[34mstringr  \u001b[39m 1.5.0\n",
      "\u001b[32m✔\u001b[39m \u001b[34mggplot2  \u001b[39m 3.4.2     \u001b[32m✔\u001b[39m \u001b[34mtibble   \u001b[39m 3.2.1\n",
      "\u001b[32m✔\u001b[39m \u001b[34mlubridate\u001b[39m 1.9.2     \u001b[32m✔\u001b[39m \u001b[34mtidyr    \u001b[39m 1.3.0\n",
      "\u001b[32m✔\u001b[39m \u001b[34mpurrr    \u001b[39m 1.0.1     \n",
      "── \u001b[1mConflicts\u001b[22m ────────────────────────────────────────── tidyverse_conflicts() ──\n",
      "\u001b[31m✖\u001b[39m \u001b[34mdplyr\u001b[39m::\u001b[32mfilter()\u001b[39m masks \u001b[34mstats\u001b[39m::filter()\n",
      "\u001b[31m✖\u001b[39m \u001b[34mdplyr\u001b[39m::\u001b[32mlag()\u001b[39m    masks \u001b[34mstats\u001b[39m::lag()\n",
      "\u001b[36mℹ\u001b[39m Use the conflicted package (\u001b[3m\u001b[34m<http://conflicted.r-lib.org/>\u001b[39m\u001b[23m) to force all conflicts to become errors\n",
      "here() starts at /kaggle/working\n",
      "\n",
      "\n",
      "Attaching package: ‘janitor’\n",
      "\n",
      "\n",
      "The following objects are masked from ‘package:stats’:\n",
      "\n",
      "    chisq.test, fisher.test\n",
      "\n",
      "\n"
     ]
    }
   ],
   "source": [
    "#loading the required pacakages \n",
    "library(tidyverse) #helps to wrangle the data\n",
    "library(dplyr) #grammer of data manipulation\n",
    "library(here) #simple way to find the files\n",
    "library(skimr) #to extract summaries of data\n",
    "library(readr) #read rectangular text data\n",
    "library(janitor) #to clean the data\n",
    "library(lubridate) #helps to wrangle the data attributes\n",
    "library(ggplot2) #helps to visualize the data\n",
    "library(ggrepel) #labeling"
   ]
  },
  {
   "cell_type": "markdown",
   "id": "51886e1b",
   "metadata": {
    "papermill": {
     "duration": 0.006689,
     "end_time": "2023-10-16T16:44:09.536978",
     "exception": false,
     "start_time": "2023-10-16T16:44:09.530289",
     "status": "completed"
    },
    "tags": []
   },
   "source": [
    "\n",
    "#### **Importing the dataset**\n"
   ]
  },
  {
   "cell_type": "code",
   "execution_count": 2,
   "id": "49ee7495",
   "metadata": {
    "execution": {
     "iopub.execute_input": "2023-10-16T16:44:09.592399Z",
     "iopub.status.busy": "2023-10-16T16:44:09.552643Z",
     "iopub.status.idle": "2023-10-16T16:44:09.888799Z",
     "shell.execute_reply": "2023-10-16T16:44:09.887019Z"
    },
    "papermill": {
     "duration": 0.374518,
     "end_time": "2023-10-16T16:44:09.918420",
     "exception": false,
     "start_time": "2023-10-16T16:44:09.543902",
     "status": "completed"
    },
    "tags": []
   },
   "outputs": [
    {
     "name": "stderr",
     "output_type": "stream",
     "text": [
      "\u001b[1mRows: \u001b[22m\u001b[34m11084\u001b[39m \u001b[1mColumns: \u001b[22m\u001b[34m9\u001b[39m\n",
      "\u001b[36m──\u001b[39m \u001b[1mColumn specification\u001b[22m \u001b[36m────────────────────────────────────────────────────────\u001b[39m\n",
      "\u001b[1mDelimiter:\u001b[22m \",\"\n",
      "\u001b[31mchr\u001b[39m (3): Artist Name, Song Name, Peak Position (xTimes)\n",
      "\u001b[32mdbl\u001b[39m (6): Position, Days, Top 10 (xTimes), Peak Position, Peak Streams, Total...\n",
      "\n",
      "\u001b[36mℹ\u001b[39m Use `spec()` to retrieve the full column specification for this data.\n",
      "\u001b[36mℹ\u001b[39m Specify the column types or set `show_col_types = FALSE` to quiet this message.\n"
     ]
    }
   ],
   "source": [
    "#importing the dataset\n",
    "mydata <- read_csv(\"/kaggle/input/my-spotify-dataset/Spotify_final_dataset.csv\")"
   ]
  },
  {
   "cell_type": "markdown",
   "id": "619c2ecb",
   "metadata": {
    "papermill": {
     "duration": 0.006934,
     "end_time": "2023-10-16T16:44:09.932404",
     "exception": false,
     "start_time": "2023-10-16T16:44:09.925470",
     "status": "completed"
    },
    "tags": []
   },
   "source": [
    "\n",
    "#### **Checking the Dataset**\n"
   ]
  },
  {
   "cell_type": "code",
   "execution_count": 3,
   "id": "69b908ee",
   "metadata": {
    "execution": {
     "iopub.execute_input": "2023-10-16T16:44:09.950798Z",
     "iopub.status.busy": "2023-10-16T16:44:09.949182Z",
     "iopub.status.idle": "2023-10-16T16:44:09.992552Z",
     "shell.execute_reply": "2023-10-16T16:44:09.990754Z"
    },
    "papermill": {
     "duration": 0.05495,
     "end_time": "2023-10-16T16:44:09.994890",
     "exception": false,
     "start_time": "2023-10-16T16:44:09.939940",
     "status": "completed"
    },
    "tags": []
   },
   "outputs": [
    {
     "data": {
      "text/html": [
       "<table class=\"dataframe\">\n",
       "<caption>A tibble: 6 × 9</caption>\n",
       "<thead>\n",
       "\t<tr><th scope=col>Position</th><th scope=col>Artist Name</th><th scope=col>Song Name</th><th scope=col>Days</th><th scope=col>Top 10 (xTimes)</th><th scope=col>Peak Position</th><th scope=col>Peak Position (xTimes)</th><th scope=col>Peak Streams</th><th scope=col>Total Streams</th></tr>\n",
       "\t<tr><th scope=col>&lt;dbl&gt;</th><th scope=col>&lt;chr&gt;</th><th scope=col>&lt;chr&gt;</th><th scope=col>&lt;dbl&gt;</th><th scope=col>&lt;dbl&gt;</th><th scope=col>&lt;dbl&gt;</th><th scope=col>&lt;chr&gt;</th><th scope=col>&lt;dbl&gt;</th><th scope=col>&lt;dbl&gt;</th></tr>\n",
       "</thead>\n",
       "<tbody>\n",
       "\t<tr><td>1</td><td>Post Malone </td><td>Sunflower  SpiderMan: Into the SpiderVerse</td><td>1506</td><td>302</td><td>1</td><td>(x29) </td><td>2118242</td><td>883369738</td></tr>\n",
       "\t<tr><td>2</td><td>Juice WRLD  </td><td>Lucid Dreams                              </td><td>1673</td><td>178</td><td>1</td><td>(x20) </td><td>2127668</td><td>864832399</td></tr>\n",
       "\t<tr><td>3</td><td>Lil Uzi Vert</td><td>XO TOUR Llif3                             </td><td>1853</td><td>212</td><td>1</td><td>(x4)  </td><td>1660502</td><td>781153024</td></tr>\n",
       "\t<tr><td>4</td><td>J. Cole     </td><td>No Role Modelz                            </td><td>2547</td><td>  6</td><td>7</td><td>0     </td><td> 659366</td><td>734857487</td></tr>\n",
       "\t<tr><td>5</td><td>Post Malone </td><td>rockstar                                  </td><td>1223</td><td>186</td><td>1</td><td>(x124)</td><td>2905678</td><td>718865961</td></tr>\n",
       "\t<tr><td>6</td><td>Travis Scott</td><td>goosebumps                                </td><td>1995</td><td>  4</td><td>8</td><td>0     </td><td> 977275</td><td>672972704</td></tr>\n",
       "</tbody>\n",
       "</table>\n"
      ],
      "text/latex": [
       "A tibble: 6 × 9\n",
       "\\begin{tabular}{lllllllll}\n",
       " Position & Artist Name & Song Name & Days & Top 10 (xTimes) & Peak Position & Peak Position (xTimes) & Peak Streams & Total Streams\\\\\n",
       " <dbl> & <chr> & <chr> & <dbl> & <dbl> & <dbl> & <chr> & <dbl> & <dbl>\\\\\n",
       "\\hline\n",
       "\t 1 & Post Malone  & Sunflower  SpiderMan: Into the SpiderVerse & 1506 & 302 & 1 & (x29)  & 2118242 & 883369738\\\\\n",
       "\t 2 & Juice WRLD   & Lucid Dreams                               & 1673 & 178 & 1 & (x20)  & 2127668 & 864832399\\\\\n",
       "\t 3 & Lil Uzi Vert & XO TOUR Llif3                              & 1853 & 212 & 1 & (x4)   & 1660502 & 781153024\\\\\n",
       "\t 4 & J. Cole      & No Role Modelz                             & 2547 &   6 & 7 & 0      &  659366 & 734857487\\\\\n",
       "\t 5 & Post Malone  & rockstar                                   & 1223 & 186 & 1 & (x124) & 2905678 & 718865961\\\\\n",
       "\t 6 & Travis Scott & goosebumps                                 & 1995 &   4 & 8 & 0      &  977275 & 672972704\\\\\n",
       "\\end{tabular}\n"
      ],
      "text/markdown": [
       "\n",
       "A tibble: 6 × 9\n",
       "\n",
       "| Position &lt;dbl&gt; | Artist Name &lt;chr&gt; | Song Name &lt;chr&gt; | Days &lt;dbl&gt; | Top 10 (xTimes) &lt;dbl&gt; | Peak Position &lt;dbl&gt; | Peak Position (xTimes) &lt;chr&gt; | Peak Streams &lt;dbl&gt; | Total Streams &lt;dbl&gt; |\n",
       "|---|---|---|---|---|---|---|---|---|\n",
       "| 1 | Post Malone  | Sunflower  SpiderMan: Into the SpiderVerse | 1506 | 302 | 1 | (x29)  | 2118242 | 883369738 |\n",
       "| 2 | Juice WRLD   | Lucid Dreams                               | 1673 | 178 | 1 | (x20)  | 2127668 | 864832399 |\n",
       "| 3 | Lil Uzi Vert | XO TOUR Llif3                              | 1853 | 212 | 1 | (x4)   | 1660502 | 781153024 |\n",
       "| 4 | J. Cole      | No Role Modelz                             | 2547 |   6 | 7 | 0      |  659366 | 734857487 |\n",
       "| 5 | Post Malone  | rockstar                                   | 1223 | 186 | 1 | (x124) | 2905678 | 718865961 |\n",
       "| 6 | Travis Scott | goosebumps                                 | 1995 |   4 | 8 | 0      |  977275 | 672972704 |\n",
       "\n"
      ],
      "text/plain": [
       "  Position Artist Name  Song Name                                  Days\n",
       "1 1        Post Malone  Sunflower  SpiderMan: Into the SpiderVerse 1506\n",
       "2 2        Juice WRLD   Lucid Dreams                               1673\n",
       "3 3        Lil Uzi Vert XO TOUR Llif3                              1853\n",
       "4 4        J. Cole      No Role Modelz                             2547\n",
       "5 5        Post Malone  rockstar                                   1223\n",
       "6 6        Travis Scott goosebumps                                 1995\n",
       "  Top 10 (xTimes) Peak Position Peak Position (xTimes) Peak Streams\n",
       "1 302             1             (x29)                  2118242     \n",
       "2 178             1             (x20)                  2127668     \n",
       "3 212             1             (x4)                   1660502     \n",
       "4   6             7             0                       659366     \n",
       "5 186             1             (x124)                 2905678     \n",
       "6   4             8             0                       977275     \n",
       "  Total Streams\n",
       "1 883369738    \n",
       "2 864832399    \n",
       "3 781153024    \n",
       "4 734857487    \n",
       "5 718865961    \n",
       "6 672972704    "
      ]
     },
     "metadata": {},
     "output_type": "display_data"
    }
   ],
   "source": [
    "#displays first 6 rows of dataset\n",
    "head(mydata)"
   ]
  },
  {
   "cell_type": "code",
   "execution_count": 4,
   "id": "da422e9a",
   "metadata": {
    "execution": {
     "iopub.execute_input": "2023-10-16T16:44:10.013146Z",
     "iopub.status.busy": "2023-10-16T16:44:10.011543Z",
     "iopub.status.idle": "2023-10-16T16:44:10.046569Z",
     "shell.execute_reply": "2023-10-16T16:44:10.044869Z"
    },
    "papermill": {
     "duration": 0.046937,
     "end_time": "2023-10-16T16:44:10.049014",
     "exception": false,
     "start_time": "2023-10-16T16:44:10.002077",
     "status": "completed"
    },
    "tags": []
   },
   "outputs": [
    {
     "name": "stdout",
     "output_type": "stream",
     "text": [
      "spc_tbl_ [11,084 × 9] (S3: spec_tbl_df/tbl_df/tbl/data.frame)\n",
      " $ Position              : num [1:11084] 1 2 3 4 5 6 7 8 9 10 ...\n",
      " $ Artist Name           : chr [1:11084] \"Post Malone\" \"Juice WRLD\" \"Lil Uzi Vert\" \"J. Cole\" ...\n",
      " $ Song Name             : chr [1:11084] \"Sunflower  SpiderMan: Into the SpiderVerse\" \"Lucid Dreams\" \"XO TOUR Llif3\" \"No Role Modelz\" ...\n",
      " $ Days                  : num [1:11084] 1506 1673 1853 2547 1223 ...\n",
      " $ Top 10 (xTimes)       : num [1:11084] 302 178 212 6 186 4 233 44 133 2 ...\n",
      " $ Peak Position         : num [1:11084] 1 1 1 7 1 8 1 2 1 5 ...\n",
      " $ Peak Position (xTimes): chr [1:11084] \"(x29)\" \"(x20)\" \"(x4)\" \"0\" ...\n",
      " $ Peak Streams          : num [1:11084] 2118242 2127668 1660502 659366 2905678 ...\n",
      " $ Total Streams         : num [1:11084] 8.83e+08 8.65e+08 7.81e+08 7.35e+08 7.19e+08 ...\n",
      " - attr(*, \"spec\")=\n",
      "  .. cols(\n",
      "  ..   Position = \u001b[32mcol_double()\u001b[39m,\n",
      "  ..   `Artist Name` = \u001b[31mcol_character()\u001b[39m,\n",
      "  ..   `Song Name` = \u001b[31mcol_character()\u001b[39m,\n",
      "  ..   Days = \u001b[32mcol_double()\u001b[39m,\n",
      "  ..   `Top 10 (xTimes)` = \u001b[32mcol_double()\u001b[39m,\n",
      "  ..   `Peak Position` = \u001b[32mcol_double()\u001b[39m,\n",
      "  ..   `Peak Position (xTimes)` = \u001b[31mcol_character()\u001b[39m,\n",
      "  ..   `Peak Streams` = \u001b[32mcol_double()\u001b[39m,\n",
      "  ..   `Total Streams` = \u001b[32mcol_double()\u001b[39m\n",
      "  .. )\n",
      " - attr(*, \"problems\")=<externalptr> \n"
     ]
    }
   ],
   "source": [
    "#displays the structure of dataset\n",
    "str(mydata)"
   ]
  },
  {
   "cell_type": "code",
   "execution_count": 5,
   "id": "53e6f4e0",
   "metadata": {
    "execution": {
     "iopub.execute_input": "2023-10-16T16:44:10.067063Z",
     "iopub.status.busy": "2023-10-16T16:44:10.065560Z",
     "iopub.status.idle": "2023-10-16T16:44:10.086109Z",
     "shell.execute_reply": "2023-10-16T16:44:10.083924Z"
    },
    "papermill": {
     "duration": 0.032877,
     "end_time": "2023-10-16T16:44:10.089094",
     "exception": false,
     "start_time": "2023-10-16T16:44:10.056217",
     "status": "completed"
    },
    "tags": []
   },
   "outputs": [
    {
     "data": {
      "text/html": [
       "<style>\n",
       ".list-inline {list-style: none; margin:0; padding: 0}\n",
       ".list-inline>li {display: inline-block}\n",
       ".list-inline>li:not(:last-child)::after {content: \"\\00b7\"; padding: 0 .5ex}\n",
       "</style>\n",
       "<ol class=list-inline><li>11084</li><li>9</li></ol>\n"
      ],
      "text/latex": [
       "\\begin{enumerate*}\n",
       "\\item 11084\n",
       "\\item 9\n",
       "\\end{enumerate*}\n"
      ],
      "text/markdown": [
       "1. 11084\n",
       "2. 9\n",
       "\n",
       "\n"
      ],
      "text/plain": [
       "[1] 11084     9"
      ]
     },
     "metadata": {},
     "output_type": "display_data"
    }
   ],
   "source": [
    "#displays the number of rows and columns of the dataset\n",
    "dim(mydata)"
   ]
  },
  {
   "cell_type": "markdown",
   "id": "c266d6cd",
   "metadata": {
    "papermill": {
     "duration": 0.007683,
     "end_time": "2023-10-16T16:44:10.104134",
     "exception": false,
     "start_time": "2023-10-16T16:44:10.096451",
     "status": "completed"
    },
    "tags": []
   },
   "source": [
    "\n",
    "------------------------------------------------------------------------\n",
    "\n",
    "# **Process**\n",
    "\n",
    "------------------------------------------------------------------------"
   ]
  },
  {
   "cell_type": "code",
   "execution_count": 6,
   "id": "1312d5a7",
   "metadata": {
    "execution": {
     "iopub.execute_input": "2023-10-16T16:44:10.122860Z",
     "iopub.status.busy": "2023-10-16T16:44:10.121100Z",
     "iopub.status.idle": "2023-10-16T16:44:10.139610Z",
     "shell.execute_reply": "2023-10-16T16:44:10.137620Z"
    },
    "papermill": {
     "duration": 0.030141,
     "end_time": "2023-10-16T16:44:10.141879",
     "exception": false,
     "start_time": "2023-10-16T16:44:10.111738",
     "status": "completed"
    },
    "tags": []
   },
   "outputs": [
    {
     "data": {
      "text/html": [
       "<style>\n",
       ".list-inline {list-style: none; margin:0; padding: 0}\n",
       ".list-inline>li {display: inline-block}\n",
       ".list-inline>li:not(:last-child)::after {content: \"\\00b7\"; padding: 0 .5ex}\n",
       "</style>\n",
       "<ol class=list-inline><li>'Position'</li><li>'Artist Name'</li><li>'Song Name'</li><li>'Days'</li><li>'Top 10 (xTimes)'</li><li>'Peak Position'</li><li>'Peak Position (xTimes)'</li><li>'Peak Streams'</li><li>'Total Streams'</li></ol>\n"
      ],
      "text/latex": [
       "\\begin{enumerate*}\n",
       "\\item 'Position'\n",
       "\\item 'Artist Name'\n",
       "\\item 'Song Name'\n",
       "\\item 'Days'\n",
       "\\item 'Top 10 (xTimes)'\n",
       "\\item 'Peak Position'\n",
       "\\item 'Peak Position (xTimes)'\n",
       "\\item 'Peak Streams'\n",
       "\\item 'Total Streams'\n",
       "\\end{enumerate*}\n"
      ],
      "text/markdown": [
       "1. 'Position'\n",
       "2. 'Artist Name'\n",
       "3. 'Song Name'\n",
       "4. 'Days'\n",
       "5. 'Top 10 (xTimes)'\n",
       "6. 'Peak Position'\n",
       "7. 'Peak Position (xTimes)'\n",
       "8. 'Peak Streams'\n",
       "9. 'Total Streams'\n",
       "\n",
       "\n"
      ],
      "text/plain": [
       "[1] \"Position\"               \"Artist Name\"            \"Song Name\"             \n",
       "[4] \"Days\"                   \"Top 10 (xTimes)\"        \"Peak Position\"         \n",
       "[7] \"Peak Position (xTimes)\" \"Peak Streams\"           \"Total Streams\"         "
      ]
     },
     "metadata": {},
     "output_type": "display_data"
    }
   ],
   "source": [
    "#displays the column names of the dataset\n",
    "colnames(mydata)"
   ]
  },
  {
   "cell_type": "code",
   "execution_count": 7,
   "id": "2c0b050e",
   "metadata": {
    "execution": {
     "iopub.execute_input": "2023-10-16T16:44:10.161106Z",
     "iopub.status.busy": "2023-10-16T16:44:10.159453Z",
     "iopub.status.idle": "2023-10-16T16:44:10.181158Z",
     "shell.execute_reply": "2023-10-16T16:44:10.179322Z"
    },
    "papermill": {
     "duration": 0.034046,
     "end_time": "2023-10-16T16:44:10.183496",
     "exception": false,
     "start_time": "2023-10-16T16:44:10.149450",
     "status": "completed"
    },
    "tags": []
   },
   "outputs": [],
   "source": [
    "#Assuming your data frame is named 'mydata'\n",
    "new_colnames <- colnames(mydata)\n",
    "\n",
    "#Find the indices of the columns you want to change\n",
    "indices_to_change <- which(new_colnames %in% c(\"Peak Position (xTimes)\", \"Top 10 (xTimes)\"))\n",
    "\n",
    "#Update the column names at the specified indices\n",
    "new_colnames[indices_to_change] <- c(\"Peak Position (n Times)\", \"Top 10 (n Times)\")\n",
    "\n",
    "#Assign the updated column names back to the data frame\n",
    "colnames(mydata) <- new_colnames"
   ]
  },
  {
   "cell_type": "code",
   "execution_count": 8,
   "id": "34ad022c",
   "metadata": {
    "execution": {
     "iopub.execute_input": "2023-10-16T16:44:10.202058Z",
     "iopub.status.busy": "2023-10-16T16:44:10.200389Z",
     "iopub.status.idle": "2023-10-16T16:44:10.250710Z",
     "shell.execute_reply": "2023-10-16T16:44:10.241849Z"
    },
    "papermill": {
     "duration": 0.062626,
     "end_time": "2023-10-16T16:44:10.253542",
     "exception": false,
     "start_time": "2023-10-16T16:44:10.190916",
     "status": "completed"
    },
    "tags": []
   },
   "outputs": [
    {
     "data": {
      "text/html": [
       "<table class=\"dataframe\">\n",
       "<caption>A tibble: 6 × 9</caption>\n",
       "<thead>\n",
       "\t<tr><th scope=col>Position</th><th scope=col>Artist Name</th><th scope=col>Song Name</th><th scope=col>Days</th><th scope=col>Peak Position (n Times)</th><th scope=col>Peak Position</th><th scope=col>Top 10 (n Times)</th><th scope=col>Peak Streams</th><th scope=col>Total Streams</th></tr>\n",
       "\t<tr><th scope=col>&lt;dbl&gt;</th><th scope=col>&lt;chr&gt;</th><th scope=col>&lt;chr&gt;</th><th scope=col>&lt;dbl&gt;</th><th scope=col>&lt;dbl&gt;</th><th scope=col>&lt;dbl&gt;</th><th scope=col>&lt;chr&gt;</th><th scope=col>&lt;dbl&gt;</th><th scope=col>&lt;dbl&gt;</th></tr>\n",
       "</thead>\n",
       "<tbody>\n",
       "\t<tr><td>1</td><td>Post Malone </td><td>Sunflower  SpiderMan: Into the SpiderVerse</td><td>1506</td><td>302</td><td>1</td><td>(x29) </td><td>2118242</td><td>883369738</td></tr>\n",
       "\t<tr><td>2</td><td>Juice WRLD  </td><td>Lucid Dreams                              </td><td>1673</td><td>178</td><td>1</td><td>(x20) </td><td>2127668</td><td>864832399</td></tr>\n",
       "\t<tr><td>3</td><td>Lil Uzi Vert</td><td>XO TOUR Llif3                             </td><td>1853</td><td>212</td><td>1</td><td>(x4)  </td><td>1660502</td><td>781153024</td></tr>\n",
       "\t<tr><td>4</td><td>J. Cole     </td><td>No Role Modelz                            </td><td>2547</td><td>  6</td><td>7</td><td>0     </td><td> 659366</td><td>734857487</td></tr>\n",
       "\t<tr><td>5</td><td>Post Malone </td><td>rockstar                                  </td><td>1223</td><td>186</td><td>1</td><td>(x124)</td><td>2905678</td><td>718865961</td></tr>\n",
       "\t<tr><td>6</td><td>Travis Scott</td><td>goosebumps                                </td><td>1995</td><td>  4</td><td>8</td><td>0     </td><td> 977275</td><td>672972704</td></tr>\n",
       "</tbody>\n",
       "</table>\n"
      ],
      "text/latex": [
       "A tibble: 6 × 9\n",
       "\\begin{tabular}{lllllllll}\n",
       " Position & Artist Name & Song Name & Days & Peak Position (n Times) & Peak Position & Top 10 (n Times) & Peak Streams & Total Streams\\\\\n",
       " <dbl> & <chr> & <chr> & <dbl> & <dbl> & <dbl> & <chr> & <dbl> & <dbl>\\\\\n",
       "\\hline\n",
       "\t 1 & Post Malone  & Sunflower  SpiderMan: Into the SpiderVerse & 1506 & 302 & 1 & (x29)  & 2118242 & 883369738\\\\\n",
       "\t 2 & Juice WRLD   & Lucid Dreams                               & 1673 & 178 & 1 & (x20)  & 2127668 & 864832399\\\\\n",
       "\t 3 & Lil Uzi Vert & XO TOUR Llif3                              & 1853 & 212 & 1 & (x4)   & 1660502 & 781153024\\\\\n",
       "\t 4 & J. Cole      & No Role Modelz                             & 2547 &   6 & 7 & 0      &  659366 & 734857487\\\\\n",
       "\t 5 & Post Malone  & rockstar                                   & 1223 & 186 & 1 & (x124) & 2905678 & 718865961\\\\\n",
       "\t 6 & Travis Scott & goosebumps                                 & 1995 &   4 & 8 & 0      &  977275 & 672972704\\\\\n",
       "\\end{tabular}\n"
      ],
      "text/markdown": [
       "\n",
       "A tibble: 6 × 9\n",
       "\n",
       "| Position &lt;dbl&gt; | Artist Name &lt;chr&gt; | Song Name &lt;chr&gt; | Days &lt;dbl&gt; | Peak Position (n Times) &lt;dbl&gt; | Peak Position &lt;dbl&gt; | Top 10 (n Times) &lt;chr&gt; | Peak Streams &lt;dbl&gt; | Total Streams &lt;dbl&gt; |\n",
       "|---|---|---|---|---|---|---|---|---|\n",
       "| 1 | Post Malone  | Sunflower  SpiderMan: Into the SpiderVerse | 1506 | 302 | 1 | (x29)  | 2118242 | 883369738 |\n",
       "| 2 | Juice WRLD   | Lucid Dreams                               | 1673 | 178 | 1 | (x20)  | 2127668 | 864832399 |\n",
       "| 3 | Lil Uzi Vert | XO TOUR Llif3                              | 1853 | 212 | 1 | (x4)   | 1660502 | 781153024 |\n",
       "| 4 | J. Cole      | No Role Modelz                             | 2547 |   6 | 7 | 0      |  659366 | 734857487 |\n",
       "| 5 | Post Malone  | rockstar                                   | 1223 | 186 | 1 | (x124) | 2905678 | 718865961 |\n",
       "| 6 | Travis Scott | goosebumps                                 | 1995 |   4 | 8 | 0      |  977275 | 672972704 |\n",
       "\n"
      ],
      "text/plain": [
       "  Position Artist Name  Song Name                                  Days\n",
       "1 1        Post Malone  Sunflower  SpiderMan: Into the SpiderVerse 1506\n",
       "2 2        Juice WRLD   Lucid Dreams                               1673\n",
       "3 3        Lil Uzi Vert XO TOUR Llif3                              1853\n",
       "4 4        J. Cole      No Role Modelz                             2547\n",
       "5 5        Post Malone  rockstar                                   1223\n",
       "6 6        Travis Scott goosebumps                                 1995\n",
       "  Peak Position (n Times) Peak Position Top 10 (n Times) Peak Streams\n",
       "1 302                     1             (x29)            2118242     \n",
       "2 178                     1             (x20)            2127668     \n",
       "3 212                     1             (x4)             1660502     \n",
       "4   6                     7             0                 659366     \n",
       "5 186                     1             (x124)           2905678     \n",
       "6   4                     8             0                 977275     \n",
       "  Total Streams\n",
       "1 883369738    \n",
       "2 864832399    \n",
       "3 781153024    \n",
       "4 734857487    \n",
       "5 718865961    \n",
       "6 672972704    "
      ]
     },
     "metadata": {},
     "output_type": "display_data"
    },
    {
     "data": {
      "text/html": [
       "<style>\n",
       ".list-inline {list-style: none; margin:0; padding: 0}\n",
       ".list-inline>li {display: inline-block}\n",
       ".list-inline>li:not(:last-child)::after {content: \"\\00b7\"; padding: 0 .5ex}\n",
       "</style>\n",
       "<ol class=list-inline><li>'Position'</li><li>'Artist Name'</li><li>'Song Name'</li><li>'Days'</li><li>'Peak Position (n Times)'</li><li>'Peak Position'</li><li>'Top 10 (n Times)'</li><li>'Peak Streams'</li><li>'Total Streams'</li></ol>\n"
      ],
      "text/latex": [
       "\\begin{enumerate*}\n",
       "\\item 'Position'\n",
       "\\item 'Artist Name'\n",
       "\\item 'Song Name'\n",
       "\\item 'Days'\n",
       "\\item 'Peak Position (n Times)'\n",
       "\\item 'Peak Position'\n",
       "\\item 'Top 10 (n Times)'\n",
       "\\item 'Peak Streams'\n",
       "\\item 'Total Streams'\n",
       "\\end{enumerate*}\n"
      ],
      "text/markdown": [
       "1. 'Position'\n",
       "2. 'Artist Name'\n",
       "3. 'Song Name'\n",
       "4. 'Days'\n",
       "5. 'Peak Position (n Times)'\n",
       "6. 'Peak Position'\n",
       "7. 'Top 10 (n Times)'\n",
       "8. 'Peak Streams'\n",
       "9. 'Total Streams'\n",
       "\n",
       "\n"
      ],
      "text/plain": [
       "[1] \"Position\"                \"Artist Name\"            \n",
       "[3] \"Song Name\"               \"Days\"                   \n",
       "[5] \"Peak Position (n Times)\" \"Peak Position\"          \n",
       "[7] \"Top 10 (n Times)\"        \"Peak Streams\"           \n",
       "[9] \"Total Streams\"          "
      ]
     },
     "metadata": {},
     "output_type": "display_data"
    }
   ],
   "source": [
    "#preview\n",
    "head(mydata)\n",
    "colnames(mydata)"
   ]
  },
  {
   "cell_type": "code",
   "execution_count": 9,
   "id": "61a1793a",
   "metadata": {
    "execution": {
     "iopub.execute_input": "2023-10-16T16:44:10.272800Z",
     "iopub.status.busy": "2023-10-16T16:44:10.271249Z",
     "iopub.status.idle": "2023-10-16T16:44:10.297872Z",
     "shell.execute_reply": "2023-10-16T16:44:10.296066Z"
    },
    "papermill": {
     "duration": 0.038449,
     "end_time": "2023-10-16T16:44:10.300072",
     "exception": false,
     "start_time": "2023-10-16T16:44:10.261623",
     "status": "completed"
    },
    "tags": []
   },
   "outputs": [
    {
     "data": {
      "text/plain": [
       "    Position     Artist Name         Song Name              Days        \n",
       " Min.   :    1   Length:11084       Length:11084       Min.   :   1.00  \n",
       " 1st Qu.: 2772   Class :character   Class :character   1st Qu.:   2.00  \n",
       " Median : 5542   Mode  :character   Mode  :character   Median :   7.00  \n",
       " Mean   : 5542                                         Mean   :  53.37  \n",
       " 3rd Qu.: 8313                                         3rd Qu.:  39.00  \n",
       " Max.   :11084                                         Max.   :2547.00  \n",
       " Peak Position (n Times) Peak Position    Top 10 (n Times)    Peak Streams    \n",
       " Min.   :  0.000         Min.   :  1.00   Length:11084       Min.   :  44323  \n",
       " 1st Qu.:  0.000         1st Qu.: 29.00   Class :character   1st Qu.: 243160  \n",
       " Median :  0.000         Median : 75.00   Mode  :character   Median : 350588  \n",
       " Mean   :  2.714         Mean   : 83.07                      Mean   : 552947  \n",
       " 3rd Qu.:  0.000         3rd Qu.:132.00                      3rd Qu.: 596338  \n",
       " Max.   :302.000         Max.   :200.00                      Max.   :7786096  \n",
       " Total Streams      \n",
       " Min.   :    44323  \n",
       " 1st Qu.:   382427  \n",
       " Median :  1704876  \n",
       " Mean   : 18308911  \n",
       " 3rd Qu.: 10783332  \n",
       " Max.   :883369738  "
      ]
     },
     "metadata": {},
     "output_type": "display_data"
    }
   ],
   "source": [
    "#statistical summary of dataset\n",
    "summary(mydata)"
   ]
  },
  {
   "cell_type": "code",
   "execution_count": 10,
   "id": "0537348f",
   "metadata": {
    "execution": {
     "iopub.execute_input": "2023-10-16T16:44:10.319977Z",
     "iopub.status.busy": "2023-10-16T16:44:10.318340Z",
     "iopub.status.idle": "2023-10-16T16:44:10.391208Z",
     "shell.execute_reply": "2023-10-16T16:44:10.389388Z"
    },
    "papermill": {
     "duration": 0.086384,
     "end_time": "2023-10-16T16:44:10.394401",
     "exception": false,
     "start_time": "2023-10-16T16:44:10.308017",
     "status": "completed"
    },
    "tags": []
   },
   "outputs": [
    {
     "data": {
      "text/html": [
       "0"
      ],
      "text/latex": [
       "0"
      ],
      "text/markdown": [
       "0"
      ],
      "text/plain": [
       "[1] 0"
      ]
     },
     "metadata": {},
     "output_type": "display_data"
    }
   ],
   "source": [
    "#number of duplicate values \n",
    "sum(duplicated(mydata))"
   ]
  },
  {
   "cell_type": "markdown",
   "id": "ec74b2a2",
   "metadata": {
    "papermill": {
     "duration": 0.007822,
     "end_time": "2023-10-16T16:44:10.410394",
     "exception": false,
     "start_time": "2023-10-16T16:44:10.402572",
     "status": "completed"
    },
    "tags": []
   },
   "source": [
    "\n",
    "------------------------------------------------------------------------\n",
    "\n",
    "# **Analyze**\n",
    "\n",
    "------------------------------------------------------------------------\n",
    "<br>\n",
    "\n",
    "Creating Separate DataFrame for top 10 Artists with most number of songs."
   ]
  },
  {
   "cell_type": "code",
   "execution_count": 11,
   "id": "896c5cca",
   "metadata": {
    "execution": {
     "iopub.execute_input": "2023-10-16T16:44:10.429811Z",
     "iopub.status.busy": "2023-10-16T16:44:10.428207Z",
     "iopub.status.idle": "2023-10-16T16:44:10.502514Z",
     "shell.execute_reply": "2023-10-16T16:44:10.500380Z"
    },
    "papermill": {
     "duration": 0.087307,
     "end_time": "2023-10-16T16:44:10.505672",
     "exception": false,
     "start_time": "2023-10-16T16:44:10.418365",
     "status": "completed"
    },
    "tags": []
   },
   "outputs": [],
   "source": [
    "# Group by Artist Name, count the number of songs, and arrange in descending order\n",
    "top_10_artists <- mydata %>%\n",
    "  group_by(`Artist Name`) %>%\n",
    "  summarize(Count = n()) %>%\n",
    "  arrange(desc(Count)) %>%\n",
    "  head(10)\n",
    "# Filter the original data frame to include only the songs by the top 10 artists\n",
    "filtered_data <- mydata %>%\n",
    "  filter(`Artist Name` %in% top_10_artists$`Artist Name`)\n",
    "top10_artists_nSongs <- filtered_data"
   ]
  },
  {
   "cell_type": "code",
   "execution_count": 12,
   "id": "55580d3f",
   "metadata": {
    "execution": {
     "iopub.execute_input": "2023-10-16T16:44:10.525769Z",
     "iopub.status.busy": "2023-10-16T16:44:10.524159Z",
     "iopub.status.idle": "2023-10-16T16:44:10.547346Z",
     "shell.execute_reply": "2023-10-16T16:44:10.545603Z"
    },
    "papermill": {
     "duration": 0.03587,
     "end_time": "2023-10-16T16:44:10.549748",
     "exception": false,
     "start_time": "2023-10-16T16:44:10.513878",
     "status": "completed"
    },
    "tags": []
   },
   "outputs": [
    {
     "data": {
      "text/html": [
       "10"
      ],
      "text/latex": [
       "10"
      ],
      "text/markdown": [
       "10"
      ],
      "text/plain": [
       "[1] 10"
      ]
     },
     "metadata": {},
     "output_type": "display_data"
    },
    {
     "data": {
      "text/html": [
       "<style>\n",
       ".list-inline {list-style: none; margin:0; padding: 0}\n",
       ".list-inline>li {display: inline-block}\n",
       ".list-inline>li:not(:last-child)::after {content: \"\\00b7\"; padding: 0 .5ex}\n",
       "</style>\n",
       "<ol class=list-inline><li>'Juice WRLD'</li><li>'The Weeknd'</li><li>'Lil Baby'</li><li>'Drake'</li><li>'Logic'</li><li>'Future'</li><li>'Kanye West'</li><li>'Trippie Redd'</li><li>'Taylor Swift'</li><li>'YoungBoy Never Broke Again'</li></ol>\n"
      ],
      "text/latex": [
       "\\begin{enumerate*}\n",
       "\\item 'Juice WRLD'\n",
       "\\item 'The Weeknd'\n",
       "\\item 'Lil Baby'\n",
       "\\item 'Drake'\n",
       "\\item 'Logic'\n",
       "\\item 'Future'\n",
       "\\item 'Kanye West'\n",
       "\\item 'Trippie Redd'\n",
       "\\item 'Taylor Swift'\n",
       "\\item 'YoungBoy Never Broke Again'\n",
       "\\end{enumerate*}\n"
      ],
      "text/markdown": [
       "1. 'Juice WRLD'\n",
       "2. 'The Weeknd'\n",
       "3. 'Lil Baby'\n",
       "4. 'Drake'\n",
       "5. 'Logic'\n",
       "6. 'Future'\n",
       "7. 'Kanye West'\n",
       "8. 'Trippie Redd'\n",
       "9. 'Taylor Swift'\n",
       "10. 'YoungBoy Never Broke Again'\n",
       "\n",
       "\n"
      ],
      "text/plain": [
       " [1] \"Juice WRLD\"                 \"The Weeknd\"                \n",
       " [3] \"Lil Baby\"                   \"Drake\"                     \n",
       " [5] \"Logic\"                      \"Future\"                    \n",
       " [7] \"Kanye West\"                 \"Trippie Redd\"              \n",
       " [9] \"Taylor Swift\"               \"YoungBoy Never Broke Again\""
      ]
     },
     "metadata": {},
     "output_type": "display_data"
    }
   ],
   "source": [
    "n_unique(top10_artists_nSongs$`Artist Name`)\n",
    "unique(top10_artists_nSongs$`Artist Name`)"
   ]
  },
  {
   "cell_type": "code",
   "execution_count": 13,
   "id": "f601fc77",
   "metadata": {
    "execution": {
     "iopub.execute_input": "2023-10-16T16:44:10.569996Z",
     "iopub.status.busy": "2023-10-16T16:44:10.568467Z",
     "iopub.status.idle": "2023-10-16T16:44:10.695751Z",
     "shell.execute_reply": "2023-10-16T16:44:10.692678Z"
    },
    "papermill": {
     "duration": 0.140406,
     "end_time": "2023-10-16T16:44:10.698685",
     "exception": false,
     "start_time": "2023-10-16T16:44:10.558279",
     "status": "completed"
    },
    "tags": []
   },
   "outputs": [
    {
     "data": {
      "text/html": [
       "<table class=\"dataframe\">\n",
       "<caption>A spec_tbl_df: 1270 × 9</caption>\n",
       "<thead>\n",
       "\t<tr><th scope=col>Position</th><th scope=col>Artist Name</th><th scope=col>Song Name</th><th scope=col>Days</th><th scope=col>Peak Position (n Times)</th><th scope=col>Peak Position</th><th scope=col>Top 10 (n Times)</th><th scope=col>Peak Streams</th><th scope=col>Total Streams</th></tr>\n",
       "\t<tr><th scope=col>&lt;dbl&gt;</th><th scope=col>&lt;chr&gt;</th><th scope=col>&lt;chr&gt;</th><th scope=col>&lt;dbl&gt;</th><th scope=col>&lt;dbl&gt;</th><th scope=col>&lt;dbl&gt;</th><th scope=col>&lt;chr&gt;</th><th scope=col>&lt;dbl&gt;</th><th scope=col>&lt;dbl&gt;</th></tr>\n",
       "</thead>\n",
       "<tbody>\n",
       "\t<tr><td>  2</td><td>Juice WRLD</td><td>Lucid Dreams                            </td><td>1673</td><td>178</td><td> 1</td><td>(x20) </td><td>2127668</td><td>864832399</td></tr>\n",
       "\t<tr><td>  7</td><td>The Weeknd</td><td>Blinding Lights                         </td><td>1100</td><td>233</td><td> 1</td><td>(x11) </td><td>2355059</td><td>644287953</td></tr>\n",
       "\t<tr><td> 10</td><td>Juice WRLD</td><td>All Girls Are The Same                  </td><td>1681</td><td>  2</td><td> 5</td><td>0     </td><td>1239152</td><td>613872384</td></tr>\n",
       "\t<tr><td> 14</td><td><span style=white-space:pre-wrap>Lil Baby  </span></td><td><span style=white-space:pre-wrap>Drip Too Hard (Lil Baby &amp; Gunna)        </span></td><td>1453</td><td>122</td><td> 1</td><td><span style=white-space:pre-wrap>(x6)  </span></td><td>1759294</td><td>583443174</td></tr>\n",
       "\t<tr><td> 18</td><td>Drake     </td><td>God's Plan                              </td><td> 634</td><td>139</td><td> 1</td><td>(x70) </td><td>4739798</td><td>534994242</td></tr>\n",
       "\t<tr><td> 23</td><td>Drake     </td><td>One Dance                               </td><td> 772</td><td>187</td><td> 1</td><td>(x103)</td><td>2767175</td><td>454267392</td></tr>\n",
       "\t<tr><td> 25</td><td>Juice WRLD</td><td>Robbery                                 </td><td>1086</td><td> 38</td><td> 2</td><td>(x2)  </td><td>1724447</td><td>443773199</td></tr>\n",
       "\t<tr><td> 36</td><td>Lil Baby  </td><td>Yes Indeed                              </td><td> 970</td><td> 43</td><td> 2</td><td>(x9)  </td><td>1838350</td><td>400193604</td></tr>\n",
       "\t<tr><td> 39</td><td>The Weeknd</td><td>The Hills                               </td><td>1243</td><td>194</td><td> 1</td><td>(x6)  </td><td>1147436</td><td>392023505</td></tr>\n",
       "\t<tr><td> 47</td><td>The Weeknd</td><td>Starboy                                 </td><td> 785</td><td>141</td><td> 1</td><td>(x29) </td><td>2070596</td><td>368997138</td></tr>\n",
       "\t<tr><td> 60</td><td>Logic     </td><td>18002738255                             </td><td> 590</td><td>111</td><td> 1</td><td>(x10) </td><td>1559318</td><td>320245347</td></tr>\n",
       "\t<tr><td> 68</td><td>Drake     </td><td>Nice For What                           </td><td> 467</td><td> 93</td><td> 1</td><td>(x32) </td><td>3183067</td><td>313324663</td></tr>\n",
       "\t<tr><td> 72</td><td>Juice WRLD</td><td>Bandit                                  </td><td> 670</td><td> 97</td><td> 2</td><td>(x4)  </td><td>1749825</td><td>307048160</td></tr>\n",
       "\t<tr><td> 73</td><td>Future    </td><td>Life Is Good                            </td><td> 601</td><td> 57</td><td> 2</td><td>(x33) </td><td>2873235</td><td>305783118</td></tr>\n",
       "\t<tr><td> 79</td><td>Drake     </td><td>Wants and Needs                         </td><td> 645</td><td> 25</td><td> 2</td><td>(x10) </td><td>3489465</td><td>297154583</td></tr>\n",
       "\t<tr><td> 85</td><td>Drake     </td><td>In My Feelings                          </td><td> 348</td><td> 83</td><td> 1</td><td>(x37) </td><td>4805299</td><td>288633458</td></tr>\n",
       "\t<tr><td> 88</td><td>Drake     </td><td>Nonstop                                 </td><td> 478</td><td> 69</td><td> 1</td><td>(x7)  </td><td>5749019</td><td>286786239</td></tr>\n",
       "\t<tr><td> 92</td><td>Juice WRLD</td><td><span style=white-space:pre-wrap>Come &amp; Go                               </span></td><td> 644</td><td> 73</td><td> 1</td><td><span style=white-space:pre-wrap>(x4)  </span></td><td>3220828</td><td>280531842</td></tr>\n",
       "\t<tr><td> 93</td><td>Juice WRLD</td><td>Wishing Well                            </td><td> 625</td><td> 65</td><td> 1</td><td>(x6)  </td><td>2817191</td><td>277821416</td></tr>\n",
       "\t<tr><td> 98</td><td>Drake     </td><td>Knife Talk                              </td><td> 471</td><td> 91</td><td> 2</td><td>(x3)  </td><td>3908883</td><td>275693546</td></tr>\n",
       "\t<tr><td>100</td><td>Drake     </td><td>Fake Love                               </td><td> 525</td><td>121</td><td> 1</td><td>(x15) </td><td>1527349</td><td>274318587</td></tr>\n",
       "\t<tr><td>103</td><td>Future    </td><td>Mask Off                                </td><td> 441</td><td>107</td><td> 2</td><td>(x29) </td><td>1768762</td><td>271944410</td></tr>\n",
       "\t<tr><td>108</td><td>Drake     </td><td>Money In The Grave (Drake ft. Rick Ross)</td><td> 467</td><td> 79</td><td> 1</td><td>(x6)  </td><td>2024475</td><td>265919957</td></tr>\n",
       "\t<tr><td>127</td><td>Drake     </td><td>Passionfruit                            </td><td> 622</td><td> 51</td><td> 1</td><td>(x13) </td><td>2811262</td><td>249576463</td></tr>\n",
       "\t<tr><td>129</td><td>Juice WRLD</td><td>Armed And Dangerous                     </td><td> 756</td><td> 10</td><td> 9</td><td>0     </td><td>1170042</td><td>248991383</td></tr>\n",
       "\t<tr><td>132</td><td>Drake     </td><td>Laugh Now Cry Later                     </td><td> 449</td><td> 89</td><td> 2</td><td>(x20) </td><td>2600470</td><td>246389835</td></tr>\n",
       "\t<tr><td>135</td><td>The Weeknd</td><td>Save Your Tears                         </td><td> 692</td><td> 49</td><td> 2</td><td>(x4)  </td><td>1465508</td><td>242055670</td></tr>\n",
       "\t<tr><td>137</td><td>The Weeknd</td><td>Die For You                             </td><td> 682</td><td>  1</td><td>10</td><td>0     </td><td> 820834</td><td>240869086</td></tr>\n",
       "\t<tr><td>148</td><td>Drake     </td><td>Jumpman                                 </td><td> 584</td><td>134</td><td> 2</td><td>(x2)  </td><td> 929883</td><td>235129660</td></tr>\n",
       "\t<tr><td>159</td><td>Drake     </td><td>Hotline Bling                           </td><td> 555</td><td>150</td><td> 1</td><td>(x28) </td><td>1506243</td><td>226915487</td></tr>\n",
       "\t<tr><td>⋮</td><td>⋮</td><td>⋮</td><td>⋮</td><td>⋮</td><td>⋮</td><td>⋮</td><td>⋮</td><td>⋮</td></tr>\n",
       "\t<tr><td> 9834</td><td>Logic                     </td><td>Perfect (Remix)                                  </td><td>1</td><td>0</td><td>185</td><td>0</td><td>242648</td><td>242648</td></tr>\n",
       "\t<tr><td> 9839</td><td>YoungBoy Never Broke Again</td><td>Forgiato                                         </td><td>1</td><td>0</td><td>187</td><td>0</td><td>242458</td><td>242458</td></tr>\n",
       "\t<tr><td> 9887</td><td>The Weeknd                </td><td>King Of The Fall                                 </td><td>1</td><td>0</td><td>194</td><td>0</td><td>239630</td><td>239630</td></tr>\n",
       "\t<tr><td> 9919</td><td>YoungBoy Never Broke Again</td><td>AI Nash                                          </td><td>1</td><td>0</td><td>156</td><td>0</td><td>237776</td><td>237776</td></tr>\n",
       "\t<tr><td> 9940</td><td>YoungBoy Never Broke Again</td><td>Ranada                                           </td><td>1</td><td>0</td><td>192</td><td>0</td><td>236592</td><td>236592</td></tr>\n",
       "\t<tr><td>10043</td><td>Logic                     </td><td>untitled                                         </td><td>1</td><td>0</td><td>179</td><td>0</td><td>232093</td><td>232093</td></tr>\n",
       "\t<tr><td>10071</td><td>Lil Baby                  </td><td>Bruised Up                                       </td><td>1</td><td>0</td><td>192</td><td>0</td><td>229676</td><td>229676</td></tr>\n",
       "\t<tr><td>10078</td><td>YoungBoy Never Broke Again</td><td>Fuck Ya!                                         </td><td>1</td><td>0</td><td>183</td><td>0</td><td>229387</td><td>229387</td></tr>\n",
       "\t<tr><td>10108</td><td>Taylor Swift              </td><td>Delicate  Recorded at The Tracking Room Nashville</td><td>1</td><td>0</td><td>170</td><td>0</td><td>227697</td><td>227697</td></tr>\n",
       "\t<tr><td>10114</td><td>Future                    </td><td>Group Home                                       </td><td>1</td><td>0</td><td>158</td><td>0</td><td>226940</td><td>226940</td></tr>\n",
       "\t<tr><td>10119</td><td>YoungBoy Never Broke Again</td><td>Ten Talk                                         </td><td>1</td><td>0</td><td>168</td><td>0</td><td>226697</td><td>226697</td></tr>\n",
       "\t<tr><td>10120</td><td>YoungBoy Never Broke Again</td><td>Treat You Better                                 </td><td>1</td><td>0</td><td>169</td><td>0</td><td>226667</td><td>226667</td></tr>\n",
       "\t<tr><td>10167</td><td>YoungBoy Never Broke Again</td><td>Fire Stars                                       </td><td>1</td><td>0</td><td>173</td><td>0</td><td>223279</td><td>223279</td></tr>\n",
       "\t<tr><td>10171</td><td>YoungBoy Never Broke Again</td><td>House Arrest Tingz                               </td><td>1</td><td>0</td><td>194</td><td>0</td><td>222974</td><td>222974</td></tr>\n",
       "\t<tr><td>10188</td><td>YoungBoy Never Broke Again</td><td>Overdose                                         </td><td>1</td><td>0</td><td>195</td><td>0</td><td>221704</td><td>221704</td></tr>\n",
       "\t<tr><td>10193</td><td>YoungBoy Never Broke Again</td><td>Reaper's Child                                   </td><td>1</td><td>0</td><td>197</td><td>0</td><td>220993</td><td>220993</td></tr>\n",
       "\t<tr><td>10208</td><td>YoungBoy Never Broke Again</td><td>I Choose You                                     </td><td>1</td><td>0</td><td>178</td><td>0</td><td>219530</td><td>219530</td></tr>\n",
       "\t<tr><td>10219</td><td>Logic                     </td><td>Pretty Young Girl                                </td><td>1</td><td>0</td><td>189</td><td>0</td><td>218197</td><td>218197</td></tr>\n",
       "\t<tr><td>10231</td><td>Logic                     </td><td>White People  Scene                              </td><td>2</td><td>0</td><td>159</td><td>0</td><td>121276</td><td>216531</td></tr>\n",
       "\t<tr><td>10261</td><td>Future                    </td><td>Tic Tac                                          </td><td>1</td><td>0</td><td>175</td><td>0</td><td>214675</td><td>214675</td></tr>\n",
       "\t<tr><td>10275</td><td>Future                    </td><td>Heart In Pieces                                  </td><td>1</td><td>0</td><td>183</td><td>0</td><td>212905</td><td>212905</td></tr>\n",
       "\t<tr><td>10330</td><td>The Weeknd                </td><td>House Of Balloons / Glass Table Girls            </td><td>1</td><td>0</td><td>184</td><td>0</td><td>206448</td><td>206448</td></tr>\n",
       "\t<tr><td>10405</td><td>Taylor Swift              </td><td>Out Of The Woods                                 </td><td>1</td><td>0</td><td>178</td><td>0</td><td>193688</td><td>193688</td></tr>\n",
       "\t<tr><td>10406</td><td>Taylor Swift              </td><td>Love Story  US Album Version                     </td><td>1</td><td>0</td><td>179</td><td>0</td><td>193521</td><td>193521</td></tr>\n",
       "\t<tr><td>10433</td><td>Taylor Swift              </td><td>Welcome To New York                              </td><td>1</td><td>0</td><td>189</td><td>0</td><td>188111</td><td>188111</td></tr>\n",
       "\t<tr><td>10454</td><td>Taylor Swift              </td><td>I Knew You Were Trouble                          </td><td>1</td><td>0</td><td>196</td><td>0</td><td>184439</td><td>184439</td></tr>\n",
       "\t<tr><td>10625</td><td>Kanye West                </td><td>POWER                                            </td><td>2</td><td>0</td><td>155</td><td>0</td><td> 85895</td><td>146525</td></tr>\n",
       "\t<tr><td>10751</td><td>Drake                     </td><td>Take Care                                        </td><td>1</td><td>0</td><td>175</td><td>0</td><td>122903</td><td>122903</td></tr>\n",
       "\t<tr><td>10755</td><td>Kanye West                </td><td>Saint Pablo                                      </td><td>1</td><td>0</td><td>187</td><td>0</td><td>122352</td><td>122352</td></tr>\n",
       "\t<tr><td>11016</td><td>Kanye West                </td><td>Christmas In Harlem                              </td><td>1</td><td>0</td><td>176</td><td>0</td><td> 68610</td><td> 68610</td></tr>\n",
       "</tbody>\n",
       "</table>\n"
      ],
      "text/latex": [
       "A spec\\_tbl\\_df: 1270 × 9\n",
       "\\begin{tabular}{lllllllll}\n",
       " Position & Artist Name & Song Name & Days & Peak Position (n Times) & Peak Position & Top 10 (n Times) & Peak Streams & Total Streams\\\\\n",
       " <dbl> & <chr> & <chr> & <dbl> & <dbl> & <dbl> & <chr> & <dbl> & <dbl>\\\\\n",
       "\\hline\n",
       "\t   2 & Juice WRLD & Lucid Dreams                             & 1673 & 178 &  1 & (x20)  & 2127668 & 864832399\\\\\n",
       "\t   7 & The Weeknd & Blinding Lights                          & 1100 & 233 &  1 & (x11)  & 2355059 & 644287953\\\\\n",
       "\t  10 & Juice WRLD & All Girls Are The Same                   & 1681 &   2 &  5 & 0      & 1239152 & 613872384\\\\\n",
       "\t  14 & Lil Baby   & Drip Too Hard (Lil Baby \\& Gunna)         & 1453 & 122 &  1 & (x6)   & 1759294 & 583443174\\\\\n",
       "\t  18 & Drake      & God's Plan                               &  634 & 139 &  1 & (x70)  & 4739798 & 534994242\\\\\n",
       "\t  23 & Drake      & One Dance                                &  772 & 187 &  1 & (x103) & 2767175 & 454267392\\\\\n",
       "\t  25 & Juice WRLD & Robbery                                  & 1086 &  38 &  2 & (x2)   & 1724447 & 443773199\\\\\n",
       "\t  36 & Lil Baby   & Yes Indeed                               &  970 &  43 &  2 & (x9)   & 1838350 & 400193604\\\\\n",
       "\t  39 & The Weeknd & The Hills                                & 1243 & 194 &  1 & (x6)   & 1147436 & 392023505\\\\\n",
       "\t  47 & The Weeknd & Starboy                                  &  785 & 141 &  1 & (x29)  & 2070596 & 368997138\\\\\n",
       "\t  60 & Logic      & 18002738255                              &  590 & 111 &  1 & (x10)  & 1559318 & 320245347\\\\\n",
       "\t  68 & Drake      & Nice For What                            &  467 &  93 &  1 & (x32)  & 3183067 & 313324663\\\\\n",
       "\t  72 & Juice WRLD & Bandit                                   &  670 &  97 &  2 & (x4)   & 1749825 & 307048160\\\\\n",
       "\t  73 & Future     & Life Is Good                             &  601 &  57 &  2 & (x33)  & 2873235 & 305783118\\\\\n",
       "\t  79 & Drake      & Wants and Needs                          &  645 &  25 &  2 & (x10)  & 3489465 & 297154583\\\\\n",
       "\t  85 & Drake      & In My Feelings                           &  348 &  83 &  1 & (x37)  & 4805299 & 288633458\\\\\n",
       "\t  88 & Drake      & Nonstop                                  &  478 &  69 &  1 & (x7)   & 5749019 & 286786239\\\\\n",
       "\t  92 & Juice WRLD & Come \\& Go                                &  644 &  73 &  1 & (x4)   & 3220828 & 280531842\\\\\n",
       "\t  93 & Juice WRLD & Wishing Well                             &  625 &  65 &  1 & (x6)   & 2817191 & 277821416\\\\\n",
       "\t  98 & Drake      & Knife Talk                               &  471 &  91 &  2 & (x3)   & 3908883 & 275693546\\\\\n",
       "\t 100 & Drake      & Fake Love                                &  525 & 121 &  1 & (x15)  & 1527349 & 274318587\\\\\n",
       "\t 103 & Future     & Mask Off                                 &  441 & 107 &  2 & (x29)  & 1768762 & 271944410\\\\\n",
       "\t 108 & Drake      & Money In The Grave (Drake ft. Rick Ross) &  467 &  79 &  1 & (x6)   & 2024475 & 265919957\\\\\n",
       "\t 127 & Drake      & Passionfruit                             &  622 &  51 &  1 & (x13)  & 2811262 & 249576463\\\\\n",
       "\t 129 & Juice WRLD & Armed And Dangerous                      &  756 &  10 &  9 & 0      & 1170042 & 248991383\\\\\n",
       "\t 132 & Drake      & Laugh Now Cry Later                      &  449 &  89 &  2 & (x20)  & 2600470 & 246389835\\\\\n",
       "\t 135 & The Weeknd & Save Your Tears                          &  692 &  49 &  2 & (x4)   & 1465508 & 242055670\\\\\n",
       "\t 137 & The Weeknd & Die For You                              &  682 &   1 & 10 & 0      &  820834 & 240869086\\\\\n",
       "\t 148 & Drake      & Jumpman                                  &  584 & 134 &  2 & (x2)   &  929883 & 235129660\\\\\n",
       "\t 159 & Drake      & Hotline Bling                            &  555 & 150 &  1 & (x28)  & 1506243 & 226915487\\\\\n",
       "\t ⋮ & ⋮ & ⋮ & ⋮ & ⋮ & ⋮ & ⋮ & ⋮ & ⋮\\\\\n",
       "\t  9834 & Logic                      & Perfect (Remix)                                   & 1 & 0 & 185 & 0 & 242648 & 242648\\\\\n",
       "\t  9839 & YoungBoy Never Broke Again & Forgiato                                          & 1 & 0 & 187 & 0 & 242458 & 242458\\\\\n",
       "\t  9887 & The Weeknd                 & King Of The Fall                                  & 1 & 0 & 194 & 0 & 239630 & 239630\\\\\n",
       "\t  9919 & YoungBoy Never Broke Again & AI Nash                                           & 1 & 0 & 156 & 0 & 237776 & 237776\\\\\n",
       "\t  9940 & YoungBoy Never Broke Again & Ranada                                            & 1 & 0 & 192 & 0 & 236592 & 236592\\\\\n",
       "\t 10043 & Logic                      & untitled                                          & 1 & 0 & 179 & 0 & 232093 & 232093\\\\\n",
       "\t 10071 & Lil Baby                   & Bruised Up                                        & 1 & 0 & 192 & 0 & 229676 & 229676\\\\\n",
       "\t 10078 & YoungBoy Never Broke Again & Fuck Ya!                                          & 1 & 0 & 183 & 0 & 229387 & 229387\\\\\n",
       "\t 10108 & Taylor Swift               & Delicate  Recorded at The Tracking Room Nashville & 1 & 0 & 170 & 0 & 227697 & 227697\\\\\n",
       "\t 10114 & Future                     & Group Home                                        & 1 & 0 & 158 & 0 & 226940 & 226940\\\\\n",
       "\t 10119 & YoungBoy Never Broke Again & Ten Talk                                          & 1 & 0 & 168 & 0 & 226697 & 226697\\\\\n",
       "\t 10120 & YoungBoy Never Broke Again & Treat You Better                                  & 1 & 0 & 169 & 0 & 226667 & 226667\\\\\n",
       "\t 10167 & YoungBoy Never Broke Again & Fire Stars                                        & 1 & 0 & 173 & 0 & 223279 & 223279\\\\\n",
       "\t 10171 & YoungBoy Never Broke Again & House Arrest Tingz                                & 1 & 0 & 194 & 0 & 222974 & 222974\\\\\n",
       "\t 10188 & YoungBoy Never Broke Again & Overdose                                          & 1 & 0 & 195 & 0 & 221704 & 221704\\\\\n",
       "\t 10193 & YoungBoy Never Broke Again & Reaper's Child                                    & 1 & 0 & 197 & 0 & 220993 & 220993\\\\\n",
       "\t 10208 & YoungBoy Never Broke Again & I Choose You                                      & 1 & 0 & 178 & 0 & 219530 & 219530\\\\\n",
       "\t 10219 & Logic                      & Pretty Young Girl                                 & 1 & 0 & 189 & 0 & 218197 & 218197\\\\\n",
       "\t 10231 & Logic                      & White People  Scene                               & 2 & 0 & 159 & 0 & 121276 & 216531\\\\\n",
       "\t 10261 & Future                     & Tic Tac                                           & 1 & 0 & 175 & 0 & 214675 & 214675\\\\\n",
       "\t 10275 & Future                     & Heart In Pieces                                   & 1 & 0 & 183 & 0 & 212905 & 212905\\\\\n",
       "\t 10330 & The Weeknd                 & House Of Balloons / Glass Table Girls             & 1 & 0 & 184 & 0 & 206448 & 206448\\\\\n",
       "\t 10405 & Taylor Swift               & Out Of The Woods                                  & 1 & 0 & 178 & 0 & 193688 & 193688\\\\\n",
       "\t 10406 & Taylor Swift               & Love Story  US Album Version                      & 1 & 0 & 179 & 0 & 193521 & 193521\\\\\n",
       "\t 10433 & Taylor Swift               & Welcome To New York                               & 1 & 0 & 189 & 0 & 188111 & 188111\\\\\n",
       "\t 10454 & Taylor Swift               & I Knew You Were Trouble                           & 1 & 0 & 196 & 0 & 184439 & 184439\\\\\n",
       "\t 10625 & Kanye West                 & POWER                                             & 2 & 0 & 155 & 0 &  85895 & 146525\\\\\n",
       "\t 10751 & Drake                      & Take Care                                         & 1 & 0 & 175 & 0 & 122903 & 122903\\\\\n",
       "\t 10755 & Kanye West                 & Saint Pablo                                       & 1 & 0 & 187 & 0 & 122352 & 122352\\\\\n",
       "\t 11016 & Kanye West                 & Christmas In Harlem                               & 1 & 0 & 176 & 0 &  68610 &  68610\\\\\n",
       "\\end{tabular}\n"
      ],
      "text/markdown": [
       "\n",
       "A spec_tbl_df: 1270 × 9\n",
       "\n",
       "| Position &lt;dbl&gt; | Artist Name &lt;chr&gt; | Song Name &lt;chr&gt; | Days &lt;dbl&gt; | Peak Position (n Times) &lt;dbl&gt; | Peak Position &lt;dbl&gt; | Top 10 (n Times) &lt;chr&gt; | Peak Streams &lt;dbl&gt; | Total Streams &lt;dbl&gt; |\n",
       "|---|---|---|---|---|---|---|---|---|\n",
       "|   2 | Juice WRLD | Lucid Dreams                             | 1673 | 178 |  1 | (x20)  | 2127668 | 864832399 |\n",
       "|   7 | The Weeknd | Blinding Lights                          | 1100 | 233 |  1 | (x11)  | 2355059 | 644287953 |\n",
       "|  10 | Juice WRLD | All Girls Are The Same                   | 1681 |   2 |  5 | 0      | 1239152 | 613872384 |\n",
       "|  14 | Lil Baby   | Drip Too Hard (Lil Baby &amp; Gunna)         | 1453 | 122 |  1 | (x6)   | 1759294 | 583443174 |\n",
       "|  18 | Drake      | God's Plan                               |  634 | 139 |  1 | (x70)  | 4739798 | 534994242 |\n",
       "|  23 | Drake      | One Dance                                |  772 | 187 |  1 | (x103) | 2767175 | 454267392 |\n",
       "|  25 | Juice WRLD | Robbery                                  | 1086 |  38 |  2 | (x2)   | 1724447 | 443773199 |\n",
       "|  36 | Lil Baby   | Yes Indeed                               |  970 |  43 |  2 | (x9)   | 1838350 | 400193604 |\n",
       "|  39 | The Weeknd | The Hills                                | 1243 | 194 |  1 | (x6)   | 1147436 | 392023505 |\n",
       "|  47 | The Weeknd | Starboy                                  |  785 | 141 |  1 | (x29)  | 2070596 | 368997138 |\n",
       "|  60 | Logic      | 18002738255                              |  590 | 111 |  1 | (x10)  | 1559318 | 320245347 |\n",
       "|  68 | Drake      | Nice For What                            |  467 |  93 |  1 | (x32)  | 3183067 | 313324663 |\n",
       "|  72 | Juice WRLD | Bandit                                   |  670 |  97 |  2 | (x4)   | 1749825 | 307048160 |\n",
       "|  73 | Future     | Life Is Good                             |  601 |  57 |  2 | (x33)  | 2873235 | 305783118 |\n",
       "|  79 | Drake      | Wants and Needs                          |  645 |  25 |  2 | (x10)  | 3489465 | 297154583 |\n",
       "|  85 | Drake      | In My Feelings                           |  348 |  83 |  1 | (x37)  | 4805299 | 288633458 |\n",
       "|  88 | Drake      | Nonstop                                  |  478 |  69 |  1 | (x7)   | 5749019 | 286786239 |\n",
       "|  92 | Juice WRLD | Come &amp; Go                                |  644 |  73 |  1 | (x4)   | 3220828 | 280531842 |\n",
       "|  93 | Juice WRLD | Wishing Well                             |  625 |  65 |  1 | (x6)   | 2817191 | 277821416 |\n",
       "|  98 | Drake      | Knife Talk                               |  471 |  91 |  2 | (x3)   | 3908883 | 275693546 |\n",
       "| 100 | Drake      | Fake Love                                |  525 | 121 |  1 | (x15)  | 1527349 | 274318587 |\n",
       "| 103 | Future     | Mask Off                                 |  441 | 107 |  2 | (x29)  | 1768762 | 271944410 |\n",
       "| 108 | Drake      | Money In The Grave (Drake ft. Rick Ross) |  467 |  79 |  1 | (x6)   | 2024475 | 265919957 |\n",
       "| 127 | Drake      | Passionfruit                             |  622 |  51 |  1 | (x13)  | 2811262 | 249576463 |\n",
       "| 129 | Juice WRLD | Armed And Dangerous                      |  756 |  10 |  9 | 0      | 1170042 | 248991383 |\n",
       "| 132 | Drake      | Laugh Now Cry Later                      |  449 |  89 |  2 | (x20)  | 2600470 | 246389835 |\n",
       "| 135 | The Weeknd | Save Your Tears                          |  692 |  49 |  2 | (x4)   | 1465508 | 242055670 |\n",
       "| 137 | The Weeknd | Die For You                              |  682 |   1 | 10 | 0      |  820834 | 240869086 |\n",
       "| 148 | Drake      | Jumpman                                  |  584 | 134 |  2 | (x2)   |  929883 | 235129660 |\n",
       "| 159 | Drake      | Hotline Bling                            |  555 | 150 |  1 | (x28)  | 1506243 | 226915487 |\n",
       "| ⋮ | ⋮ | ⋮ | ⋮ | ⋮ | ⋮ | ⋮ | ⋮ | ⋮ |\n",
       "|  9834 | Logic                      | Perfect (Remix)                                   | 1 | 0 | 185 | 0 | 242648 | 242648 |\n",
       "|  9839 | YoungBoy Never Broke Again | Forgiato                                          | 1 | 0 | 187 | 0 | 242458 | 242458 |\n",
       "|  9887 | The Weeknd                 | King Of The Fall                                  | 1 | 0 | 194 | 0 | 239630 | 239630 |\n",
       "|  9919 | YoungBoy Never Broke Again | AI Nash                                           | 1 | 0 | 156 | 0 | 237776 | 237776 |\n",
       "|  9940 | YoungBoy Never Broke Again | Ranada                                            | 1 | 0 | 192 | 0 | 236592 | 236592 |\n",
       "| 10043 | Logic                      | untitled                                          | 1 | 0 | 179 | 0 | 232093 | 232093 |\n",
       "| 10071 | Lil Baby                   | Bruised Up                                        | 1 | 0 | 192 | 0 | 229676 | 229676 |\n",
       "| 10078 | YoungBoy Never Broke Again | Fuck Ya!                                          | 1 | 0 | 183 | 0 | 229387 | 229387 |\n",
       "| 10108 | Taylor Swift               | Delicate  Recorded at The Tracking Room Nashville | 1 | 0 | 170 | 0 | 227697 | 227697 |\n",
       "| 10114 | Future                     | Group Home                                        | 1 | 0 | 158 | 0 | 226940 | 226940 |\n",
       "| 10119 | YoungBoy Never Broke Again | Ten Talk                                          | 1 | 0 | 168 | 0 | 226697 | 226697 |\n",
       "| 10120 | YoungBoy Never Broke Again | Treat You Better                                  | 1 | 0 | 169 | 0 | 226667 | 226667 |\n",
       "| 10167 | YoungBoy Never Broke Again | Fire Stars                                        | 1 | 0 | 173 | 0 | 223279 | 223279 |\n",
       "| 10171 | YoungBoy Never Broke Again | House Arrest Tingz                                | 1 | 0 | 194 | 0 | 222974 | 222974 |\n",
       "| 10188 | YoungBoy Never Broke Again | Overdose                                          | 1 | 0 | 195 | 0 | 221704 | 221704 |\n",
       "| 10193 | YoungBoy Never Broke Again | Reaper's Child                                    | 1 | 0 | 197 | 0 | 220993 | 220993 |\n",
       "| 10208 | YoungBoy Never Broke Again | I Choose You                                      | 1 | 0 | 178 | 0 | 219530 | 219530 |\n",
       "| 10219 | Logic                      | Pretty Young Girl                                 | 1 | 0 | 189 | 0 | 218197 | 218197 |\n",
       "| 10231 | Logic                      | White People  Scene                               | 2 | 0 | 159 | 0 | 121276 | 216531 |\n",
       "| 10261 | Future                     | Tic Tac                                           | 1 | 0 | 175 | 0 | 214675 | 214675 |\n",
       "| 10275 | Future                     | Heart In Pieces                                   | 1 | 0 | 183 | 0 | 212905 | 212905 |\n",
       "| 10330 | The Weeknd                 | House Of Balloons / Glass Table Girls             | 1 | 0 | 184 | 0 | 206448 | 206448 |\n",
       "| 10405 | Taylor Swift               | Out Of The Woods                                  | 1 | 0 | 178 | 0 | 193688 | 193688 |\n",
       "| 10406 | Taylor Swift               | Love Story  US Album Version                      | 1 | 0 | 179 | 0 | 193521 | 193521 |\n",
       "| 10433 | Taylor Swift               | Welcome To New York                               | 1 | 0 | 189 | 0 | 188111 | 188111 |\n",
       "| 10454 | Taylor Swift               | I Knew You Were Trouble                           | 1 | 0 | 196 | 0 | 184439 | 184439 |\n",
       "| 10625 | Kanye West                 | POWER                                             | 2 | 0 | 155 | 0 |  85895 | 146525 |\n",
       "| 10751 | Drake                      | Take Care                                         | 1 | 0 | 175 | 0 | 122903 | 122903 |\n",
       "| 10755 | Kanye West                 | Saint Pablo                                       | 1 | 0 | 187 | 0 | 122352 | 122352 |\n",
       "| 11016 | Kanye West                 | Christmas In Harlem                               | 1 | 0 | 176 | 0 |  68610 |  68610 |\n",
       "\n"
      ],
      "text/plain": [
       "     Position Artist Name               \n",
       "1      2      Juice WRLD                \n",
       "2      7      The Weeknd                \n",
       "3     10      Juice WRLD                \n",
       "4     14      Lil Baby                  \n",
       "5     18      Drake                     \n",
       "6     23      Drake                     \n",
       "7     25      Juice WRLD                \n",
       "8     36      Lil Baby                  \n",
       "9     39      The Weeknd                \n",
       "10    47      The Weeknd                \n",
       "11    60      Logic                     \n",
       "12    68      Drake                     \n",
       "13    72      Juice WRLD                \n",
       "14    73      Future                    \n",
       "15    79      Drake                     \n",
       "16    85      Drake                     \n",
       "17    88      Drake                     \n",
       "18    92      Juice WRLD                \n",
       "19    93      Juice WRLD                \n",
       "20    98      Drake                     \n",
       "21   100      Drake                     \n",
       "22   103      Future                    \n",
       "23   108      Drake                     \n",
       "24   127      Drake                     \n",
       "25   129      Juice WRLD                \n",
       "26   132      Drake                     \n",
       "27   135      The Weeknd                \n",
       "28   137      The Weeknd                \n",
       "29   148      Drake                     \n",
       "30   159      Drake                     \n",
       "⋮    ⋮        ⋮                         \n",
       "1241  9834    Logic                     \n",
       "1242  9839    YoungBoy Never Broke Again\n",
       "1243  9887    The Weeknd                \n",
       "1244  9919    YoungBoy Never Broke Again\n",
       "1245  9940    YoungBoy Never Broke Again\n",
       "1246 10043    Logic                     \n",
       "1247 10071    Lil Baby                  \n",
       "1248 10078    YoungBoy Never Broke Again\n",
       "1249 10108    Taylor Swift              \n",
       "1250 10114    Future                    \n",
       "1251 10119    YoungBoy Never Broke Again\n",
       "1252 10120    YoungBoy Never Broke Again\n",
       "1253 10167    YoungBoy Never Broke Again\n",
       "1254 10171    YoungBoy Never Broke Again\n",
       "1255 10188    YoungBoy Never Broke Again\n",
       "1256 10193    YoungBoy Never Broke Again\n",
       "1257 10208    YoungBoy Never Broke Again\n",
       "1258 10219    Logic                     \n",
       "1259 10231    Logic                     \n",
       "1260 10261    Future                    \n",
       "1261 10275    Future                    \n",
       "1262 10330    The Weeknd                \n",
       "1263 10405    Taylor Swift              \n",
       "1264 10406    Taylor Swift              \n",
       "1265 10433    Taylor Swift              \n",
       "1266 10454    Taylor Swift              \n",
       "1267 10625    Kanye West                \n",
       "1268 10751    Drake                     \n",
       "1269 10755    Kanye West                \n",
       "1270 11016    Kanye West                \n",
       "     Song Name                                         Days\n",
       "1    Lucid Dreams                                      1673\n",
       "2    Blinding Lights                                   1100\n",
       "3    All Girls Are The Same                            1681\n",
       "4    Drip Too Hard (Lil Baby & Gunna)                  1453\n",
       "5    God's Plan                                         634\n",
       "6    One Dance                                          772\n",
       "7    Robbery                                           1086\n",
       "8    Yes Indeed                                         970\n",
       "9    The Hills                                         1243\n",
       "10   Starboy                                            785\n",
       "11   18002738255                                        590\n",
       "12   Nice For What                                      467\n",
       "13   Bandit                                             670\n",
       "14   Life Is Good                                       601\n",
       "15   Wants and Needs                                    645\n",
       "16   In My Feelings                                     348\n",
       "17   Nonstop                                            478\n",
       "18   Come & Go                                          644\n",
       "19   Wishing Well                                       625\n",
       "20   Knife Talk                                         471\n",
       "21   Fake Love                                          525\n",
       "22   Mask Off                                           441\n",
       "23   Money In The Grave (Drake ft. Rick Ross)           467\n",
       "24   Passionfruit                                       622\n",
       "25   Armed And Dangerous                                756\n",
       "26   Laugh Now Cry Later                                449\n",
       "27   Save Your Tears                                    692\n",
       "28   Die For You                                        682\n",
       "29   Jumpman                                            584\n",
       "30   Hotline Bling                                      555\n",
       "⋮    ⋮                                                 ⋮   \n",
       "1241 Perfect (Remix)                                   1   \n",
       "1242 Forgiato                                          1   \n",
       "1243 King Of The Fall                                  1   \n",
       "1244 AI Nash                                           1   \n",
       "1245 Ranada                                            1   \n",
       "1246 untitled                                          1   \n",
       "1247 Bruised Up                                        1   \n",
       "1248 Fuck Ya!                                          1   \n",
       "1249 Delicate  Recorded at The Tracking Room Nashville 1   \n",
       "1250 Group Home                                        1   \n",
       "1251 Ten Talk                                          1   \n",
       "1252 Treat You Better                                  1   \n",
       "1253 Fire Stars                                        1   \n",
       "1254 House Arrest Tingz                                1   \n",
       "1255 Overdose                                          1   \n",
       "1256 Reaper's Child                                    1   \n",
       "1257 I Choose You                                      1   \n",
       "1258 Pretty Young Girl                                 1   \n",
       "1259 White People  Scene                               2   \n",
       "1260 Tic Tac                                           1   \n",
       "1261 Heart In Pieces                                   1   \n",
       "1262 House Of Balloons / Glass Table Girls             1   \n",
       "1263 Out Of The Woods                                  1   \n",
       "1264 Love Story  US Album Version                      1   \n",
       "1265 Welcome To New York                               1   \n",
       "1266 I Knew You Were Trouble                           1   \n",
       "1267 POWER                                             2   \n",
       "1268 Take Care                                         1   \n",
       "1269 Saint Pablo                                       1   \n",
       "1270 Christmas In Harlem                               1   \n",
       "     Peak Position (n Times) Peak Position Top 10 (n Times) Peak Streams\n",
       "1    178                      1            (x20)            2127668     \n",
       "2    233                      1            (x11)            2355059     \n",
       "3      2                      5            0                1239152     \n",
       "4    122                      1            (x6)             1759294     \n",
       "5    139                      1            (x70)            4739798     \n",
       "6    187                      1            (x103)           2767175     \n",
       "7     38                      2            (x2)             1724447     \n",
       "8     43                      2            (x9)             1838350     \n",
       "9    194                      1            (x6)             1147436     \n",
       "10   141                      1            (x29)            2070596     \n",
       "11   111                      1            (x10)            1559318     \n",
       "12    93                      1            (x32)            3183067     \n",
       "13    97                      2            (x4)             1749825     \n",
       "14    57                      2            (x33)            2873235     \n",
       "15    25                      2            (x10)            3489465     \n",
       "16    83                      1            (x37)            4805299     \n",
       "17    69                      1            (x7)             5749019     \n",
       "18    73                      1            (x4)             3220828     \n",
       "19    65                      1            (x6)             2817191     \n",
       "20    91                      2            (x3)             3908883     \n",
       "21   121                      1            (x15)            1527349     \n",
       "22   107                      2            (x29)            1768762     \n",
       "23    79                      1            (x6)             2024475     \n",
       "24    51                      1            (x13)            2811262     \n",
       "25    10                      9            0                1170042     \n",
       "26    89                      2            (x20)            2600470     \n",
       "27    49                      2            (x4)             1465508     \n",
       "28     1                     10            0                 820834     \n",
       "29   134                      2            (x2)              929883     \n",
       "30   150                      1            (x28)            1506243     \n",
       "⋮    ⋮                       ⋮             ⋮                ⋮           \n",
       "1241 0                       185           0                242648      \n",
       "1242 0                       187           0                242458      \n",
       "1243 0                       194           0                239630      \n",
       "1244 0                       156           0                237776      \n",
       "1245 0                       192           0                236592      \n",
       "1246 0                       179           0                232093      \n",
       "1247 0                       192           0                229676      \n",
       "1248 0                       183           0                229387      \n",
       "1249 0                       170           0                227697      \n",
       "1250 0                       158           0                226940      \n",
       "1251 0                       168           0                226697      \n",
       "1252 0                       169           0                226667      \n",
       "1253 0                       173           0                223279      \n",
       "1254 0                       194           0                222974      \n",
       "1255 0                       195           0                221704      \n",
       "1256 0                       197           0                220993      \n",
       "1257 0                       178           0                219530      \n",
       "1258 0                       189           0                218197      \n",
       "1259 0                       159           0                121276      \n",
       "1260 0                       175           0                214675      \n",
       "1261 0                       183           0                212905      \n",
       "1262 0                       184           0                206448      \n",
       "1263 0                       178           0                193688      \n",
       "1264 0                       179           0                193521      \n",
       "1265 0                       189           0                188111      \n",
       "1266 0                       196           0                184439      \n",
       "1267 0                       155           0                 85895      \n",
       "1268 0                       175           0                122903      \n",
       "1269 0                       187           0                122352      \n",
       "1270 0                       176           0                 68610      \n",
       "     Total Streams\n",
       "1    864832399    \n",
       "2    644287953    \n",
       "3    613872384    \n",
       "4    583443174    \n",
       "5    534994242    \n",
       "6    454267392    \n",
       "7    443773199    \n",
       "8    400193604    \n",
       "9    392023505    \n",
       "10   368997138    \n",
       "11   320245347    \n",
       "12   313324663    \n",
       "13   307048160    \n",
       "14   305783118    \n",
       "15   297154583    \n",
       "16   288633458    \n",
       "17   286786239    \n",
       "18   280531842    \n",
       "19   277821416    \n",
       "20   275693546    \n",
       "21   274318587    \n",
       "22   271944410    \n",
       "23   265919957    \n",
       "24   249576463    \n",
       "25   248991383    \n",
       "26   246389835    \n",
       "27   242055670    \n",
       "28   240869086    \n",
       "29   235129660    \n",
       "30   226915487    \n",
       "⋮    ⋮            \n",
       "1241 242648       \n",
       "1242 242458       \n",
       "1243 239630       \n",
       "1244 237776       \n",
       "1245 236592       \n",
       "1246 232093       \n",
       "1247 229676       \n",
       "1248 229387       \n",
       "1249 227697       \n",
       "1250 226940       \n",
       "1251 226697       \n",
       "1252 226667       \n",
       "1253 223279       \n",
       "1254 222974       \n",
       "1255 221704       \n",
       "1256 220993       \n",
       "1257 219530       \n",
       "1258 218197       \n",
       "1259 216531       \n",
       "1260 214675       \n",
       "1261 212905       \n",
       "1262 206448       \n",
       "1263 193688       \n",
       "1264 193521       \n",
       "1265 188111       \n",
       "1266 184439       \n",
       "1267 146525       \n",
       "1268 122903       \n",
       "1269 122352       \n",
       "1270  68610       "
      ]
     },
     "metadata": {},
     "output_type": "display_data"
    }
   ],
   "source": [
    "View(top10_artists_nSongs)"
   ]
  },
  {
   "cell_type": "markdown",
   "id": "bfecb01f",
   "metadata": {
    "papermill": {
     "duration": 0.009597,
     "end_time": "2023-10-16T16:44:10.718438",
     "exception": false,
     "start_time": "2023-10-16T16:44:10.708841",
     "status": "completed"
    },
    "tags": []
   },
   "source": [
    "<br>\n",
    "\n",
    "Creating separate dataframe with top 10 artists with respect to stream count."
   ]
  },
  {
   "cell_type": "code",
   "execution_count": 14,
   "id": "93d58cfd",
   "metadata": {
    "execution": {
     "iopub.execute_input": "2023-10-16T16:44:10.740951Z",
     "iopub.status.busy": "2023-10-16T16:44:10.739485Z",
     "iopub.status.idle": "2023-10-16T16:44:10.779487Z",
     "shell.execute_reply": "2023-10-16T16:44:10.777305Z"
    },
    "papermill": {
     "duration": 0.055132,
     "end_time": "2023-10-16T16:44:10.783041",
     "exception": false,
     "start_time": "2023-10-16T16:44:10.727909",
     "status": "completed"
    },
    "tags": []
   },
   "outputs": [],
   "source": [
    "# Group by Artist Name, sum the Total Streams, and arrange in descending order\n",
    "top_10_streaming_artists <- mydata %>%\n",
    "  group_by(`Artist Name`) %>%\n",
    "  summarize(Total_Stream_Count = sum(`Total Streams`)) %>%\n",
    "  arrange(desc(Total_Stream_Count)) %>%\n",
    "  head(10)\n",
    "\n",
    "# Filter the original data frame to include only the songs by the top 10 streaming artists\n",
    "filtered_stream_data <- mydata %>%\n",
    "  filter(`Artist Name` %in% top_10_streaming_artists$`Artist Name`)\n",
    "top10_artists_Streams <- filtered_stream_data"
   ]
  },
  {
   "cell_type": "code",
   "execution_count": 15,
   "id": "ff3ff978",
   "metadata": {
    "execution": {
     "iopub.execute_input": "2023-10-16T16:44:10.805834Z",
     "iopub.status.busy": "2023-10-16T16:44:10.804322Z",
     "iopub.status.idle": "2023-10-16T16:44:10.931723Z",
     "shell.execute_reply": "2023-10-16T16:44:10.928966Z"
    },
    "papermill": {
     "duration": 0.14231,
     "end_time": "2023-10-16T16:44:10.934925",
     "exception": false,
     "start_time": "2023-10-16T16:44:10.792615",
     "status": "completed"
    },
    "tags": []
   },
   "outputs": [
    {
     "data": {
      "text/html": [
       "<table class=\"dataframe\">\n",
       "<caption>A spec_tbl_df: 991 × 9</caption>\n",
       "<thead>\n",
       "\t<tr><th scope=col>Position</th><th scope=col>Artist Name</th><th scope=col>Song Name</th><th scope=col>Days</th><th scope=col>Peak Position (n Times)</th><th scope=col>Peak Position</th><th scope=col>Top 10 (n Times)</th><th scope=col>Peak Streams</th><th scope=col>Total Streams</th></tr>\n",
       "\t<tr><th scope=col>&lt;dbl&gt;</th><th scope=col>&lt;chr&gt;</th><th scope=col>&lt;chr&gt;</th><th scope=col>&lt;dbl&gt;</th><th scope=col>&lt;dbl&gt;</th><th scope=col>&lt;dbl&gt;</th><th scope=col>&lt;chr&gt;</th><th scope=col>&lt;dbl&gt;</th><th scope=col>&lt;dbl&gt;</th></tr>\n",
       "</thead>\n",
       "<tbody>\n",
       "\t<tr><td> 1</td><td>Post Malone  </td><td>Sunflower  SpiderMan: Into the SpiderVerse</td><td>1506</td><td>302</td><td> 1</td><td>(x29) </td><td>2118242</td><td>883369738</td></tr>\n",
       "\t<tr><td> 2</td><td>Juice WRLD   </td><td>Lucid Dreams                              </td><td>1673</td><td>178</td><td> 1</td><td>(x20) </td><td>2127668</td><td>864832399</td></tr>\n",
       "\t<tr><td> 3</td><td>Lil Uzi Vert </td><td>XO TOUR Llif3                             </td><td>1853</td><td>212</td><td> 1</td><td>(x4)  </td><td>1660502</td><td>781153024</td></tr>\n",
       "\t<tr><td> 5</td><td>Post Malone  </td><td>rockstar                                  </td><td>1223</td><td>186</td><td> 1</td><td>(x124)</td><td>2905678</td><td>718865961</td></tr>\n",
       "\t<tr><td> 7</td><td>The Weeknd   </td><td>Blinding Lights                           </td><td>1100</td><td>233</td><td> 1</td><td>(x11) </td><td>2355059</td><td>644287953</td></tr>\n",
       "\t<tr><td> 8</td><td>XXXTENTACION </td><td>Jocelyn Flores                            </td><td>1673</td><td> 44</td><td> 2</td><td>(x1)  </td><td>3175206</td><td>624457164</td></tr>\n",
       "\t<tr><td> 9</td><td>XXXTENTACION </td><td>SAD!                                      </td><td>1217</td><td>133</td><td> 1</td><td>(x6)  </td><td>4437612</td><td>619879245</td></tr>\n",
       "\t<tr><td>10</td><td>Juice WRLD   </td><td>All Girls Are The Same                    </td><td>1681</td><td>  2</td><td> 5</td><td>0     </td><td>1239152</td><td>613872384</td></tr>\n",
       "\t<tr><td>12</td><td>Post Malone  </td><td>Circles                                   </td><td>1172</td><td>163</td><td> 1</td><td>(x38) </td><td>3441328</td><td>598521764</td></tr>\n",
       "\t<tr><td>15</td><td>Post Malone  </td><td>Congratulations                           </td><td>1215</td><td>136</td><td> 5</td><td>0     </td><td>1263208</td><td>546036924</td></tr>\n",
       "\t<tr><td>16</td><td>Post Malone  </td><td>I Fall Apart                              </td><td>1278</td><td>132</td><td> 2</td><td>(x14) </td><td>1275320</td><td>543144261</td></tr>\n",
       "\t<tr><td>18</td><td>Drake        </td><td>God's Plan                                </td><td> 634</td><td>139</td><td> 1</td><td>(x70) </td><td>4739798</td><td>534994242</td></tr>\n",
       "\t<tr><td>21</td><td>XXXTENTACION </td><td>Fuck Love                                 </td><td>1406</td><td>  9</td><td> 5</td><td>0     </td><td>2438715</td><td>473417295</td></tr>\n",
       "\t<tr><td>22</td><td>Post Malone  </td><td>Better Now                                </td><td> 862</td><td> 72</td><td> 1</td><td>(x8)  </td><td>3467168</td><td>463551468</td></tr>\n",
       "\t<tr><td>23</td><td>Drake        </td><td>One Dance                                 </td><td> 772</td><td>187</td><td> 1</td><td>(x103)</td><td>2767175</td><td>454267392</td></tr>\n",
       "\t<tr><td>25</td><td>Juice WRLD   </td><td>Robbery                                   </td><td>1086</td><td> 38</td><td> 2</td><td>(x2)  </td><td>1724447</td><td>443773199</td></tr>\n",
       "\t<tr><td>26</td><td>Billie Eilish</td><td>lovely                                    </td><td>1250</td><td>  0</td><td>18</td><td>0     </td><td> 733267</td><td>437911914</td></tr>\n",
       "\t<tr><td>28</td><td>XXXTENTACION </td><td>Moonlight                                 </td><td> 923</td><td> 57</td><td> 2</td><td>(x2)  </td><td>3167290</td><td>431568186</td></tr>\n",
       "\t<tr><td>33</td><td>Post Malone  </td><td>Wow.                                      </td><td> 699</td><td>115</td><td> 1</td><td>(x6)  </td><td>2317682</td><td>405812776</td></tr>\n",
       "\t<tr><td>38</td><td>Post Malone  </td><td>Psycho                                    </td><td> 607</td><td>107</td><td> 1</td><td>(x1)  </td><td>3261937</td><td>396525691</td></tr>\n",
       "\t<tr><td>39</td><td>The Weeknd   </td><td>The Hills                                 </td><td>1243</td><td>194</td><td> 1</td><td>(x6)  </td><td>1147436</td><td>392023505</td></tr>\n",
       "\t<tr><td>41</td><td>Billie Eilish</td><td>bad guy                                   </td><td> 652</td><td>108</td><td> 1</td><td>(x20) </td><td>2931099</td><td>385813103</td></tr>\n",
       "\t<tr><td>47</td><td>The Weeknd   </td><td>Starboy                                   </td><td> 785</td><td>141</td><td> 1</td><td>(x29) </td><td>2070596</td><td>368997138</td></tr>\n",
       "\t<tr><td>54</td><td>Ariana Grande</td><td>7 rings                                   </td><td> 559</td><td> 72</td><td> 1</td><td>(x34) </td><td>3961641</td><td>332694161</td></tr>\n",
       "\t<tr><td>55</td><td>Billie Eilish</td><td>when the party's over                     </td><td> 787</td><td>  9</td><td> 5</td><td>0     </td><td>1592762</td><td>331192577</td></tr>\n",
       "\t<tr><td>62</td><td>Ariana Grande</td><td>thank u, next                             </td><td> 463</td><td> 93</td><td> 1</td><td>(x42) </td><td>4190968</td><td>317987550</td></tr>\n",
       "\t<tr><td>68</td><td>Drake        </td><td>Nice For What                             </td><td> 467</td><td> 93</td><td> 1</td><td>(x32) </td><td>3183067</td><td>313324663</td></tr>\n",
       "\t<tr><td>72</td><td>Juice WRLD   </td><td>Bandit                                    </td><td> 670</td><td> 97</td><td> 2</td><td>(x4)  </td><td>1749825</td><td>307048160</td></tr>\n",
       "\t<tr><td>79</td><td>Drake        </td><td>Wants and Needs                           </td><td> 645</td><td> 25</td><td> 2</td><td>(x10) </td><td>3489465</td><td>297154583</td></tr>\n",
       "\t<tr><td>84</td><td>Post Malone  </td><td>White Iverson                             </td><td>1069</td><td> 45</td><td> 7</td><td>0     </td><td> 613541</td><td>288882157</td></tr>\n",
       "\t<tr><td>⋮</td><td>⋮</td><td>⋮</td><td>⋮</td><td>⋮</td><td>⋮</td><td>⋮</td><td>⋮</td><td>⋮</td></tr>\n",
       "\t<tr><td> 9063</td><td>The Weeknd   </td><td>The Morning                                       </td><td>2</td><td>0</td><td>179</td><td>0</td><td>148050</td><td>285728</td></tr>\n",
       "\t<tr><td> 9089</td><td>XXXTENTACION </td><td>Off the Wall!                                     </td><td>1</td><td>0</td><td>139</td><td>0</td><td>283645</td><td>283645</td></tr>\n",
       "\t<tr><td> 9103</td><td>The Weeknd   </td><td>Heartless  Vapor Wave Remix                       </td><td>1</td><td>0</td><td>124</td><td>0</td><td>282594</td><td>282594</td></tr>\n",
       "\t<tr><td> 9110</td><td>Drake        </td><td>Ignant Shit                                       </td><td>1</td><td>0</td><td>160</td><td>0</td><td>281771</td><td>281771</td></tr>\n",
       "\t<tr><td> 9124</td><td>Juice WRLD   </td><td>Long Gone                                         </td><td>1</td><td>0</td><td>174</td><td>0</td><td>281147</td><td>281147</td></tr>\n",
       "\t<tr><td> 9156</td><td>Taylor Swift </td><td>Carolina  \"Where The Crawdads Sing\"  Video Edition</td><td>1</td><td>0</td><td>159</td><td>0</td><td>279727</td><td>279727</td></tr>\n",
       "\t<tr><td> 9206</td><td>XXXTENTACION </td><td>Hi Wendy!                                         </td><td>1</td><td>0</td><td>147</td><td>0</td><td>277054</td><td>277054</td></tr>\n",
       "\t<tr><td> 9230</td><td>XXXTENTACION </td><td>ATTENTION!                                        </td><td>1</td><td>0</td><td>199</td><td>0</td><td>275638</td><td>275638</td></tr>\n",
       "\t<tr><td> 9390</td><td>Post Malone  </td><td>Waiting For Never                                 </td><td>1</td><td>0</td><td>176</td><td>0</td><td>266579</td><td>266579</td></tr>\n",
       "\t<tr><td> 9426</td><td>Drake        </td><td>Let’s Call It Off                                 </td><td>1</td><td>0</td><td>174</td><td>0</td><td>264886</td><td>264886</td></tr>\n",
       "\t<tr><td> 9628</td><td>Drake        </td><td>The Motto                                         </td><td>2</td><td>0</td><td>175</td><td>0</td><td>129086</td><td>253036</td></tr>\n",
       "\t<tr><td> 9655</td><td>Juice WRLD   </td><td>Go Hard 2.0                                       </td><td>1</td><td>0</td><td>187</td><td>0</td><td>251807</td><td>251807</td></tr>\n",
       "\t<tr><td> 9689</td><td>Taylor Swift </td><td>willow  90's trend remix                          </td><td>1</td><td>0</td><td>140</td><td>0</td><td>250055</td><td>250055</td></tr>\n",
       "\t<tr><td> 9698</td><td>Taylor Swift </td><td>Red                                               </td><td>1</td><td>0</td><td>127</td><td>0</td><td>249369</td><td>249369</td></tr>\n",
       "\t<tr><td> 9831</td><td>Taylor Swift </td><td>We Are Never Ever Getting Back Together           </td><td>1</td><td>0</td><td>140</td><td>0</td><td>242698</td><td>242698</td></tr>\n",
       "\t<tr><td> 9887</td><td>The Weeknd   </td><td>King Of The Fall                                  </td><td>1</td><td>0</td><td>194</td><td>0</td><td>239630</td><td>239630</td></tr>\n",
       "\t<tr><td> 9893</td><td>XXXTENTACION </td><td>H2O                                               </td><td>1</td><td>0</td><td>175</td><td>0</td><td>239472</td><td>239472</td></tr>\n",
       "\t<tr><td> 9957</td><td>XXXTENTACION </td><td>4Peat                                             </td><td>1</td><td>0</td><td>177</td><td>0</td><td>235950</td><td>235950</td></tr>\n",
       "\t<tr><td>10003</td><td>XXXTENTACION </td><td>Bowser                                            </td><td>1</td><td>0</td><td>184</td><td>0</td><td>233725</td><td>233725</td></tr>\n",
       "\t<tr><td>10108</td><td>Taylor Swift </td><td>Delicate  Recorded at The Tracking Room Nashville </td><td>1</td><td>0</td><td>170</td><td>0</td><td>227697</td><td>227697</td></tr>\n",
       "\t<tr><td>10282</td><td>Lil Uzi Vert </td><td>GLOCK IN MY PURSE                                 </td><td>1</td><td>0</td><td>186</td><td>0</td><td>211114</td><td>211114</td></tr>\n",
       "\t<tr><td>10330</td><td>The Weeknd   </td><td>House Of Balloons / Glass Table Girls             </td><td>1</td><td>0</td><td>184</td><td>0</td><td>206448</td><td>206448</td></tr>\n",
       "\t<tr><td>10405</td><td>Taylor Swift </td><td>Out Of The Woods                                  </td><td>1</td><td>0</td><td>178</td><td>0</td><td>193688</td><td>193688</td></tr>\n",
       "\t<tr><td>10406</td><td>Taylor Swift </td><td>Love Story  US Album Version                      </td><td>1</td><td>0</td><td>179</td><td>0</td><td>193521</td><td>193521</td></tr>\n",
       "\t<tr><td>10433</td><td>Taylor Swift </td><td>Welcome To New York                               </td><td>1</td><td>0</td><td>189</td><td>0</td><td>188111</td><td>188111</td></tr>\n",
       "\t<tr><td>10454</td><td>Taylor Swift </td><td>I Knew You Were Trouble                           </td><td>1</td><td>0</td><td>196</td><td>0</td><td>184439</td><td>184439</td></tr>\n",
       "\t<tr><td>10589</td><td>Post Malone  </td><td>Cold                                              </td><td>1</td><td>0</td><td>198</td><td>0</td><td>154134</td><td>154134</td></tr>\n",
       "\t<tr><td>10651</td><td>Ariana Grande</td><td>Snow In California                                </td><td>2</td><td>0</td><td>170</td><td>0</td><td> 70654</td><td>141263</td></tr>\n",
       "\t<tr><td>10706</td><td>Ariana Grande</td><td>Break Your Heart Right Back                       </td><td>1</td><td>0</td><td> 47</td><td>0</td><td>130591</td><td>130591</td></tr>\n",
       "\t<tr><td>10751</td><td>Drake        </td><td>Take Care                                         </td><td>1</td><td>0</td><td>175</td><td>0</td><td>122903</td><td>122903</td></tr>\n",
       "</tbody>\n",
       "</table>\n"
      ],
      "text/latex": [
       "A spec\\_tbl\\_df: 991 × 9\n",
       "\\begin{tabular}{lllllllll}\n",
       " Position & Artist Name & Song Name & Days & Peak Position (n Times) & Peak Position & Top 10 (n Times) & Peak Streams & Total Streams\\\\\n",
       " <dbl> & <chr> & <chr> & <dbl> & <dbl> & <dbl> & <chr> & <dbl> & <dbl>\\\\\n",
       "\\hline\n",
       "\t  1 & Post Malone   & Sunflower  SpiderMan: Into the SpiderVerse & 1506 & 302 &  1 & (x29)  & 2118242 & 883369738\\\\\n",
       "\t  2 & Juice WRLD    & Lucid Dreams                               & 1673 & 178 &  1 & (x20)  & 2127668 & 864832399\\\\\n",
       "\t  3 & Lil Uzi Vert  & XO TOUR Llif3                              & 1853 & 212 &  1 & (x4)   & 1660502 & 781153024\\\\\n",
       "\t  5 & Post Malone   & rockstar                                   & 1223 & 186 &  1 & (x124) & 2905678 & 718865961\\\\\n",
       "\t  7 & The Weeknd    & Blinding Lights                            & 1100 & 233 &  1 & (x11)  & 2355059 & 644287953\\\\\n",
       "\t  8 & XXXTENTACION  & Jocelyn Flores                             & 1673 &  44 &  2 & (x1)   & 3175206 & 624457164\\\\\n",
       "\t  9 & XXXTENTACION  & SAD!                                       & 1217 & 133 &  1 & (x6)   & 4437612 & 619879245\\\\\n",
       "\t 10 & Juice WRLD    & All Girls Are The Same                     & 1681 &   2 &  5 & 0      & 1239152 & 613872384\\\\\n",
       "\t 12 & Post Malone   & Circles                                    & 1172 & 163 &  1 & (x38)  & 3441328 & 598521764\\\\\n",
       "\t 15 & Post Malone   & Congratulations                            & 1215 & 136 &  5 & 0      & 1263208 & 546036924\\\\\n",
       "\t 16 & Post Malone   & I Fall Apart                               & 1278 & 132 &  2 & (x14)  & 1275320 & 543144261\\\\\n",
       "\t 18 & Drake         & God's Plan                                 &  634 & 139 &  1 & (x70)  & 4739798 & 534994242\\\\\n",
       "\t 21 & XXXTENTACION  & Fuck Love                                  & 1406 &   9 &  5 & 0      & 2438715 & 473417295\\\\\n",
       "\t 22 & Post Malone   & Better Now                                 &  862 &  72 &  1 & (x8)   & 3467168 & 463551468\\\\\n",
       "\t 23 & Drake         & One Dance                                  &  772 & 187 &  1 & (x103) & 2767175 & 454267392\\\\\n",
       "\t 25 & Juice WRLD    & Robbery                                    & 1086 &  38 &  2 & (x2)   & 1724447 & 443773199\\\\\n",
       "\t 26 & Billie Eilish & lovely                                     & 1250 &   0 & 18 & 0      &  733267 & 437911914\\\\\n",
       "\t 28 & XXXTENTACION  & Moonlight                                  &  923 &  57 &  2 & (x2)   & 3167290 & 431568186\\\\\n",
       "\t 33 & Post Malone   & Wow.                                       &  699 & 115 &  1 & (x6)   & 2317682 & 405812776\\\\\n",
       "\t 38 & Post Malone   & Psycho                                     &  607 & 107 &  1 & (x1)   & 3261937 & 396525691\\\\\n",
       "\t 39 & The Weeknd    & The Hills                                  & 1243 & 194 &  1 & (x6)   & 1147436 & 392023505\\\\\n",
       "\t 41 & Billie Eilish & bad guy                                    &  652 & 108 &  1 & (x20)  & 2931099 & 385813103\\\\\n",
       "\t 47 & The Weeknd    & Starboy                                    &  785 & 141 &  1 & (x29)  & 2070596 & 368997138\\\\\n",
       "\t 54 & Ariana Grande & 7 rings                                    &  559 &  72 &  1 & (x34)  & 3961641 & 332694161\\\\\n",
       "\t 55 & Billie Eilish & when the party's over                      &  787 &   9 &  5 & 0      & 1592762 & 331192577\\\\\n",
       "\t 62 & Ariana Grande & thank u, next                              &  463 &  93 &  1 & (x42)  & 4190968 & 317987550\\\\\n",
       "\t 68 & Drake         & Nice For What                              &  467 &  93 &  1 & (x32)  & 3183067 & 313324663\\\\\n",
       "\t 72 & Juice WRLD    & Bandit                                     &  670 &  97 &  2 & (x4)   & 1749825 & 307048160\\\\\n",
       "\t 79 & Drake         & Wants and Needs                            &  645 &  25 &  2 & (x10)  & 3489465 & 297154583\\\\\n",
       "\t 84 & Post Malone   & White Iverson                              & 1069 &  45 &  7 & 0      &  613541 & 288882157\\\\\n",
       "\t ⋮ & ⋮ & ⋮ & ⋮ & ⋮ & ⋮ & ⋮ & ⋮ & ⋮\\\\\n",
       "\t  9063 & The Weeknd    & The Morning                                        & 2 & 0 & 179 & 0 & 148050 & 285728\\\\\n",
       "\t  9089 & XXXTENTACION  & Off the Wall!                                      & 1 & 0 & 139 & 0 & 283645 & 283645\\\\\n",
       "\t  9103 & The Weeknd    & Heartless  Vapor Wave Remix                        & 1 & 0 & 124 & 0 & 282594 & 282594\\\\\n",
       "\t  9110 & Drake         & Ignant Shit                                        & 1 & 0 & 160 & 0 & 281771 & 281771\\\\\n",
       "\t  9124 & Juice WRLD    & Long Gone                                          & 1 & 0 & 174 & 0 & 281147 & 281147\\\\\n",
       "\t  9156 & Taylor Swift  & Carolina  \"Where The Crawdads Sing\"  Video Edition & 1 & 0 & 159 & 0 & 279727 & 279727\\\\\n",
       "\t  9206 & XXXTENTACION  & Hi Wendy!                                          & 1 & 0 & 147 & 0 & 277054 & 277054\\\\\n",
       "\t  9230 & XXXTENTACION  & ATTENTION!                                         & 1 & 0 & 199 & 0 & 275638 & 275638\\\\\n",
       "\t  9390 & Post Malone   & Waiting For Never                                  & 1 & 0 & 176 & 0 & 266579 & 266579\\\\\n",
       "\t  9426 & Drake         & Let’s Call It Off                                  & 1 & 0 & 174 & 0 & 264886 & 264886\\\\\n",
       "\t  9628 & Drake         & The Motto                                          & 2 & 0 & 175 & 0 & 129086 & 253036\\\\\n",
       "\t  9655 & Juice WRLD    & Go Hard 2.0                                        & 1 & 0 & 187 & 0 & 251807 & 251807\\\\\n",
       "\t  9689 & Taylor Swift  & willow  90's trend remix                           & 1 & 0 & 140 & 0 & 250055 & 250055\\\\\n",
       "\t  9698 & Taylor Swift  & Red                                                & 1 & 0 & 127 & 0 & 249369 & 249369\\\\\n",
       "\t  9831 & Taylor Swift  & We Are Never Ever Getting Back Together            & 1 & 0 & 140 & 0 & 242698 & 242698\\\\\n",
       "\t  9887 & The Weeknd    & King Of The Fall                                   & 1 & 0 & 194 & 0 & 239630 & 239630\\\\\n",
       "\t  9893 & XXXTENTACION  & H2O                                                & 1 & 0 & 175 & 0 & 239472 & 239472\\\\\n",
       "\t  9957 & XXXTENTACION  & 4Peat                                              & 1 & 0 & 177 & 0 & 235950 & 235950\\\\\n",
       "\t 10003 & XXXTENTACION  & Bowser                                             & 1 & 0 & 184 & 0 & 233725 & 233725\\\\\n",
       "\t 10108 & Taylor Swift  & Delicate  Recorded at The Tracking Room Nashville  & 1 & 0 & 170 & 0 & 227697 & 227697\\\\\n",
       "\t 10282 & Lil Uzi Vert  & GLOCK IN MY PURSE                                  & 1 & 0 & 186 & 0 & 211114 & 211114\\\\\n",
       "\t 10330 & The Weeknd    & House Of Balloons / Glass Table Girls              & 1 & 0 & 184 & 0 & 206448 & 206448\\\\\n",
       "\t 10405 & Taylor Swift  & Out Of The Woods                                   & 1 & 0 & 178 & 0 & 193688 & 193688\\\\\n",
       "\t 10406 & Taylor Swift  & Love Story  US Album Version                       & 1 & 0 & 179 & 0 & 193521 & 193521\\\\\n",
       "\t 10433 & Taylor Swift  & Welcome To New York                                & 1 & 0 & 189 & 0 & 188111 & 188111\\\\\n",
       "\t 10454 & Taylor Swift  & I Knew You Were Trouble                            & 1 & 0 & 196 & 0 & 184439 & 184439\\\\\n",
       "\t 10589 & Post Malone   & Cold                                               & 1 & 0 & 198 & 0 & 154134 & 154134\\\\\n",
       "\t 10651 & Ariana Grande & Snow In California                                 & 2 & 0 & 170 & 0 &  70654 & 141263\\\\\n",
       "\t 10706 & Ariana Grande & Break Your Heart Right Back                        & 1 & 0 &  47 & 0 & 130591 & 130591\\\\\n",
       "\t 10751 & Drake         & Take Care                                          & 1 & 0 & 175 & 0 & 122903 & 122903\\\\\n",
       "\\end{tabular}\n"
      ],
      "text/markdown": [
       "\n",
       "A spec_tbl_df: 991 × 9\n",
       "\n",
       "| Position &lt;dbl&gt; | Artist Name &lt;chr&gt; | Song Name &lt;chr&gt; | Days &lt;dbl&gt; | Peak Position (n Times) &lt;dbl&gt; | Peak Position &lt;dbl&gt; | Top 10 (n Times) &lt;chr&gt; | Peak Streams &lt;dbl&gt; | Total Streams &lt;dbl&gt; |\n",
       "|---|---|---|---|---|---|---|---|---|\n",
       "|  1 | Post Malone   | Sunflower  SpiderMan: Into the SpiderVerse | 1506 | 302 |  1 | (x29)  | 2118242 | 883369738 |\n",
       "|  2 | Juice WRLD    | Lucid Dreams                               | 1673 | 178 |  1 | (x20)  | 2127668 | 864832399 |\n",
       "|  3 | Lil Uzi Vert  | XO TOUR Llif3                              | 1853 | 212 |  1 | (x4)   | 1660502 | 781153024 |\n",
       "|  5 | Post Malone   | rockstar                                   | 1223 | 186 |  1 | (x124) | 2905678 | 718865961 |\n",
       "|  7 | The Weeknd    | Blinding Lights                            | 1100 | 233 |  1 | (x11)  | 2355059 | 644287953 |\n",
       "|  8 | XXXTENTACION  | Jocelyn Flores                             | 1673 |  44 |  2 | (x1)   | 3175206 | 624457164 |\n",
       "|  9 | XXXTENTACION  | SAD!                                       | 1217 | 133 |  1 | (x6)   | 4437612 | 619879245 |\n",
       "| 10 | Juice WRLD    | All Girls Are The Same                     | 1681 |   2 |  5 | 0      | 1239152 | 613872384 |\n",
       "| 12 | Post Malone   | Circles                                    | 1172 | 163 |  1 | (x38)  | 3441328 | 598521764 |\n",
       "| 15 | Post Malone   | Congratulations                            | 1215 | 136 |  5 | 0      | 1263208 | 546036924 |\n",
       "| 16 | Post Malone   | I Fall Apart                               | 1278 | 132 |  2 | (x14)  | 1275320 | 543144261 |\n",
       "| 18 | Drake         | God's Plan                                 |  634 | 139 |  1 | (x70)  | 4739798 | 534994242 |\n",
       "| 21 | XXXTENTACION  | Fuck Love                                  | 1406 |   9 |  5 | 0      | 2438715 | 473417295 |\n",
       "| 22 | Post Malone   | Better Now                                 |  862 |  72 |  1 | (x8)   | 3467168 | 463551468 |\n",
       "| 23 | Drake         | One Dance                                  |  772 | 187 |  1 | (x103) | 2767175 | 454267392 |\n",
       "| 25 | Juice WRLD    | Robbery                                    | 1086 |  38 |  2 | (x2)   | 1724447 | 443773199 |\n",
       "| 26 | Billie Eilish | lovely                                     | 1250 |   0 | 18 | 0      |  733267 | 437911914 |\n",
       "| 28 | XXXTENTACION  | Moonlight                                  |  923 |  57 |  2 | (x2)   | 3167290 | 431568186 |\n",
       "| 33 | Post Malone   | Wow.                                       |  699 | 115 |  1 | (x6)   | 2317682 | 405812776 |\n",
       "| 38 | Post Malone   | Psycho                                     |  607 | 107 |  1 | (x1)   | 3261937 | 396525691 |\n",
       "| 39 | The Weeknd    | The Hills                                  | 1243 | 194 |  1 | (x6)   | 1147436 | 392023505 |\n",
       "| 41 | Billie Eilish | bad guy                                    |  652 | 108 |  1 | (x20)  | 2931099 | 385813103 |\n",
       "| 47 | The Weeknd    | Starboy                                    |  785 | 141 |  1 | (x29)  | 2070596 | 368997138 |\n",
       "| 54 | Ariana Grande | 7 rings                                    |  559 |  72 |  1 | (x34)  | 3961641 | 332694161 |\n",
       "| 55 | Billie Eilish | when the party's over                      |  787 |   9 |  5 | 0      | 1592762 | 331192577 |\n",
       "| 62 | Ariana Grande | thank u, next                              |  463 |  93 |  1 | (x42)  | 4190968 | 317987550 |\n",
       "| 68 | Drake         | Nice For What                              |  467 |  93 |  1 | (x32)  | 3183067 | 313324663 |\n",
       "| 72 | Juice WRLD    | Bandit                                     |  670 |  97 |  2 | (x4)   | 1749825 | 307048160 |\n",
       "| 79 | Drake         | Wants and Needs                            |  645 |  25 |  2 | (x10)  | 3489465 | 297154583 |\n",
       "| 84 | Post Malone   | White Iverson                              | 1069 |  45 |  7 | 0      |  613541 | 288882157 |\n",
       "| ⋮ | ⋮ | ⋮ | ⋮ | ⋮ | ⋮ | ⋮ | ⋮ | ⋮ |\n",
       "|  9063 | The Weeknd    | The Morning                                        | 2 | 0 | 179 | 0 | 148050 | 285728 |\n",
       "|  9089 | XXXTENTACION  | Off the Wall!                                      | 1 | 0 | 139 | 0 | 283645 | 283645 |\n",
       "|  9103 | The Weeknd    | Heartless  Vapor Wave Remix                        | 1 | 0 | 124 | 0 | 282594 | 282594 |\n",
       "|  9110 | Drake         | Ignant Shit                                        | 1 | 0 | 160 | 0 | 281771 | 281771 |\n",
       "|  9124 | Juice WRLD    | Long Gone                                          | 1 | 0 | 174 | 0 | 281147 | 281147 |\n",
       "|  9156 | Taylor Swift  | Carolina  \"Where The Crawdads Sing\"  Video Edition | 1 | 0 | 159 | 0 | 279727 | 279727 |\n",
       "|  9206 | XXXTENTACION  | Hi Wendy!                                          | 1 | 0 | 147 | 0 | 277054 | 277054 |\n",
       "|  9230 | XXXTENTACION  | ATTENTION!                                         | 1 | 0 | 199 | 0 | 275638 | 275638 |\n",
       "|  9390 | Post Malone   | Waiting For Never                                  | 1 | 0 | 176 | 0 | 266579 | 266579 |\n",
       "|  9426 | Drake         | Let’s Call It Off                                  | 1 | 0 | 174 | 0 | 264886 | 264886 |\n",
       "|  9628 | Drake         | The Motto                                          | 2 | 0 | 175 | 0 | 129086 | 253036 |\n",
       "|  9655 | Juice WRLD    | Go Hard 2.0                                        | 1 | 0 | 187 | 0 | 251807 | 251807 |\n",
       "|  9689 | Taylor Swift  | willow  90's trend remix                           | 1 | 0 | 140 | 0 | 250055 | 250055 |\n",
       "|  9698 | Taylor Swift  | Red                                                | 1 | 0 | 127 | 0 | 249369 | 249369 |\n",
       "|  9831 | Taylor Swift  | We Are Never Ever Getting Back Together            | 1 | 0 | 140 | 0 | 242698 | 242698 |\n",
       "|  9887 | The Weeknd    | King Of The Fall                                   | 1 | 0 | 194 | 0 | 239630 | 239630 |\n",
       "|  9893 | XXXTENTACION  | H2O                                                | 1 | 0 | 175 | 0 | 239472 | 239472 |\n",
       "|  9957 | XXXTENTACION  | 4Peat                                              | 1 | 0 | 177 | 0 | 235950 | 235950 |\n",
       "| 10003 | XXXTENTACION  | Bowser                                             | 1 | 0 | 184 | 0 | 233725 | 233725 |\n",
       "| 10108 | Taylor Swift  | Delicate  Recorded at The Tracking Room Nashville  | 1 | 0 | 170 | 0 | 227697 | 227697 |\n",
       "| 10282 | Lil Uzi Vert  | GLOCK IN MY PURSE                                  | 1 | 0 | 186 | 0 | 211114 | 211114 |\n",
       "| 10330 | The Weeknd    | House Of Balloons / Glass Table Girls              | 1 | 0 | 184 | 0 | 206448 | 206448 |\n",
       "| 10405 | Taylor Swift  | Out Of The Woods                                   | 1 | 0 | 178 | 0 | 193688 | 193688 |\n",
       "| 10406 | Taylor Swift  | Love Story  US Album Version                       | 1 | 0 | 179 | 0 | 193521 | 193521 |\n",
       "| 10433 | Taylor Swift  | Welcome To New York                                | 1 | 0 | 189 | 0 | 188111 | 188111 |\n",
       "| 10454 | Taylor Swift  | I Knew You Were Trouble                            | 1 | 0 | 196 | 0 | 184439 | 184439 |\n",
       "| 10589 | Post Malone   | Cold                                               | 1 | 0 | 198 | 0 | 154134 | 154134 |\n",
       "| 10651 | Ariana Grande | Snow In California                                 | 2 | 0 | 170 | 0 |  70654 | 141263 |\n",
       "| 10706 | Ariana Grande | Break Your Heart Right Back                        | 1 | 0 |  47 | 0 | 130591 | 130591 |\n",
       "| 10751 | Drake         | Take Care                                          | 1 | 0 | 175 | 0 | 122903 | 122903 |\n",
       "\n"
      ],
      "text/plain": [
       "    Position Artist Name   Song Name                                         \n",
       "1    1       Post Malone   Sunflower  SpiderMan: Into the SpiderVerse        \n",
       "2    2       Juice WRLD    Lucid Dreams                                      \n",
       "3    3       Lil Uzi Vert  XO TOUR Llif3                                     \n",
       "4    5       Post Malone   rockstar                                          \n",
       "5    7       The Weeknd    Blinding Lights                                   \n",
       "6    8       XXXTENTACION  Jocelyn Flores                                    \n",
       "7    9       XXXTENTACION  SAD!                                              \n",
       "8   10       Juice WRLD    All Girls Are The Same                            \n",
       "9   12       Post Malone   Circles                                           \n",
       "10  15       Post Malone   Congratulations                                   \n",
       "11  16       Post Malone   I Fall Apart                                      \n",
       "12  18       Drake         God's Plan                                        \n",
       "13  21       XXXTENTACION  Fuck Love                                         \n",
       "14  22       Post Malone   Better Now                                        \n",
       "15  23       Drake         One Dance                                         \n",
       "16  25       Juice WRLD    Robbery                                           \n",
       "17  26       Billie Eilish lovely                                            \n",
       "18  28       XXXTENTACION  Moonlight                                         \n",
       "19  33       Post Malone   Wow.                                              \n",
       "20  38       Post Malone   Psycho                                            \n",
       "21  39       The Weeknd    The Hills                                         \n",
       "22  41       Billie Eilish bad guy                                           \n",
       "23  47       The Weeknd    Starboy                                           \n",
       "24  54       Ariana Grande 7 rings                                           \n",
       "25  55       Billie Eilish when the party's over                             \n",
       "26  62       Ariana Grande thank u, next                                     \n",
       "27  68       Drake         Nice For What                                     \n",
       "28  72       Juice WRLD    Bandit                                            \n",
       "29  79       Drake         Wants and Needs                                   \n",
       "30  84       Post Malone   White Iverson                                     \n",
       "⋮   ⋮        ⋮             ⋮                                                 \n",
       "962  9063    The Weeknd    The Morning                                       \n",
       "963  9089    XXXTENTACION  Off the Wall!                                     \n",
       "964  9103    The Weeknd    Heartless  Vapor Wave Remix                       \n",
       "965  9110    Drake         Ignant Shit                                       \n",
       "966  9124    Juice WRLD    Long Gone                                         \n",
       "967  9156    Taylor Swift  Carolina  \"Where The Crawdads Sing\"  Video Edition\n",
       "968  9206    XXXTENTACION  Hi Wendy!                                         \n",
       "969  9230    XXXTENTACION  ATTENTION!                                        \n",
       "970  9390    Post Malone   Waiting For Never                                 \n",
       "971  9426    Drake         Let’s Call It Off                                 \n",
       "972  9628    Drake         The Motto                                         \n",
       "973  9655    Juice WRLD    Go Hard 2.0                                       \n",
       "974  9689    Taylor Swift  willow  90's trend remix                          \n",
       "975  9698    Taylor Swift  Red                                               \n",
       "976  9831    Taylor Swift  We Are Never Ever Getting Back Together           \n",
       "977  9887    The Weeknd    King Of The Fall                                  \n",
       "978  9893    XXXTENTACION  H2O                                               \n",
       "979  9957    XXXTENTACION  4Peat                                             \n",
       "980 10003    XXXTENTACION  Bowser                                            \n",
       "981 10108    Taylor Swift  Delicate  Recorded at The Tracking Room Nashville \n",
       "982 10282    Lil Uzi Vert  GLOCK IN MY PURSE                                 \n",
       "983 10330    The Weeknd    House Of Balloons / Glass Table Girls             \n",
       "984 10405    Taylor Swift  Out Of The Woods                                  \n",
       "985 10406    Taylor Swift  Love Story  US Album Version                      \n",
       "986 10433    Taylor Swift  Welcome To New York                               \n",
       "987 10454    Taylor Swift  I Knew You Were Trouble                           \n",
       "988 10589    Post Malone   Cold                                              \n",
       "989 10651    Ariana Grande Snow In California                                \n",
       "990 10706    Ariana Grande Break Your Heart Right Back                       \n",
       "991 10751    Drake         Take Care                                         \n",
       "    Days Peak Position (n Times) Peak Position Top 10 (n Times) Peak Streams\n",
       "1   1506 302                      1            (x29)            2118242     \n",
       "2   1673 178                      1            (x20)            2127668     \n",
       "3   1853 212                      1            (x4)             1660502     \n",
       "4   1223 186                      1            (x124)           2905678     \n",
       "5   1100 233                      1            (x11)            2355059     \n",
       "6   1673  44                      2            (x1)             3175206     \n",
       "7   1217 133                      1            (x6)             4437612     \n",
       "8   1681   2                      5            0                1239152     \n",
       "9   1172 163                      1            (x38)            3441328     \n",
       "10  1215 136                      5            0                1263208     \n",
       "11  1278 132                      2            (x14)            1275320     \n",
       "12   634 139                      1            (x70)            4739798     \n",
       "13  1406   9                      5            0                2438715     \n",
       "14   862  72                      1            (x8)             3467168     \n",
       "15   772 187                      1            (x103)           2767175     \n",
       "16  1086  38                      2            (x2)             1724447     \n",
       "17  1250   0                     18            0                 733267     \n",
       "18   923  57                      2            (x2)             3167290     \n",
       "19   699 115                      1            (x6)             2317682     \n",
       "20   607 107                      1            (x1)             3261937     \n",
       "21  1243 194                      1            (x6)             1147436     \n",
       "22   652 108                      1            (x20)            2931099     \n",
       "23   785 141                      1            (x29)            2070596     \n",
       "24   559  72                      1            (x34)            3961641     \n",
       "25   787   9                      5            0                1592762     \n",
       "26   463  93                      1            (x42)            4190968     \n",
       "27   467  93                      1            (x32)            3183067     \n",
       "28   670  97                      2            (x4)             1749825     \n",
       "29   645  25                      2            (x10)            3489465     \n",
       "30  1069  45                      7            0                 613541     \n",
       "⋮   ⋮    ⋮                       ⋮             ⋮                ⋮           \n",
       "962 2    0                       179           0                148050      \n",
       "963 1    0                       139           0                283645      \n",
       "964 1    0                       124           0                282594      \n",
       "965 1    0                       160           0                281771      \n",
       "966 1    0                       174           0                281147      \n",
       "967 1    0                       159           0                279727      \n",
       "968 1    0                       147           0                277054      \n",
       "969 1    0                       199           0                275638      \n",
       "970 1    0                       176           0                266579      \n",
       "971 1    0                       174           0                264886      \n",
       "972 2    0                       175           0                129086      \n",
       "973 1    0                       187           0                251807      \n",
       "974 1    0                       140           0                250055      \n",
       "975 1    0                       127           0                249369      \n",
       "976 1    0                       140           0                242698      \n",
       "977 1    0                       194           0                239630      \n",
       "978 1    0                       175           0                239472      \n",
       "979 1    0                       177           0                235950      \n",
       "980 1    0                       184           0                233725      \n",
       "981 1    0                       170           0                227697      \n",
       "982 1    0                       186           0                211114      \n",
       "983 1    0                       184           0                206448      \n",
       "984 1    0                       178           0                193688      \n",
       "985 1    0                       179           0                193521      \n",
       "986 1    0                       189           0                188111      \n",
       "987 1    0                       196           0                184439      \n",
       "988 1    0                       198           0                154134      \n",
       "989 2    0                       170           0                 70654      \n",
       "990 1    0                        47           0                130591      \n",
       "991 1    0                       175           0                122903      \n",
       "    Total Streams\n",
       "1   883369738    \n",
       "2   864832399    \n",
       "3   781153024    \n",
       "4   718865961    \n",
       "5   644287953    \n",
       "6   624457164    \n",
       "7   619879245    \n",
       "8   613872384    \n",
       "9   598521764    \n",
       "10  546036924    \n",
       "11  543144261    \n",
       "12  534994242    \n",
       "13  473417295    \n",
       "14  463551468    \n",
       "15  454267392    \n",
       "16  443773199    \n",
       "17  437911914    \n",
       "18  431568186    \n",
       "19  405812776    \n",
       "20  396525691    \n",
       "21  392023505    \n",
       "22  385813103    \n",
       "23  368997138    \n",
       "24  332694161    \n",
       "25  331192577    \n",
       "26  317987550    \n",
       "27  313324663    \n",
       "28  307048160    \n",
       "29  297154583    \n",
       "30  288882157    \n",
       "⋮   ⋮            \n",
       "962 285728       \n",
       "963 283645       \n",
       "964 282594       \n",
       "965 281771       \n",
       "966 281147       \n",
       "967 279727       \n",
       "968 277054       \n",
       "969 275638       \n",
       "970 266579       \n",
       "971 264886       \n",
       "972 253036       \n",
       "973 251807       \n",
       "974 250055       \n",
       "975 249369       \n",
       "976 242698       \n",
       "977 239630       \n",
       "978 239472       \n",
       "979 235950       \n",
       "980 233725       \n",
       "981 227697       \n",
       "982 211114       \n",
       "983 206448       \n",
       "984 193688       \n",
       "985 193521       \n",
       "986 188111       \n",
       "987 184439       \n",
       "988 154134       \n",
       "989 141263       \n",
       "990 130591       \n",
       "991 122903       "
      ]
     },
     "metadata": {},
     "output_type": "display_data"
    }
   ],
   "source": [
    "View(top10_artists_Streams)"
   ]
  },
  {
   "cell_type": "markdown",
   "id": "b0f98e06",
   "metadata": {
    "papermill": {
     "duration": 0.011197,
     "end_time": "2023-10-16T16:44:10.957187",
     "exception": false,
     "start_time": "2023-10-16T16:44:10.945990",
     "status": "completed"
    },
    "tags": []
   },
   "source": [
    "Creating separate dataframe with top 10 songs with respect to stream count"
   ]
  },
  {
   "cell_type": "code",
   "execution_count": 16,
   "id": "840b22ad",
   "metadata": {
    "execution": {
     "iopub.execute_input": "2023-10-16T16:44:10.984569Z",
     "iopub.status.busy": "2023-10-16T16:44:10.982449Z",
     "iopub.status.idle": "2023-10-16T16:44:11.002562Z",
     "shell.execute_reply": "2023-10-16T16:44:11.000785Z"
    },
    "papermill": {
     "duration": 0.036265,
     "end_time": "2023-10-16T16:44:11.005696",
     "exception": false,
     "start_time": "2023-10-16T16:44:10.969431",
     "status": "completed"
    },
    "tags": []
   },
   "outputs": [],
   "source": [
    "# Arrange songs by Total Streams in descending order and select the top 10\n",
    "top10_Songs_Streams <- mydata %>%\n",
    "  arrange(desc(`Total Streams`)) %>%\n",
    "  head(10)"
   ]
  },
  {
   "cell_type": "code",
   "execution_count": 17,
   "id": "1552ace5",
   "metadata": {
    "execution": {
     "iopub.execute_input": "2023-10-16T16:44:11.031754Z",
     "iopub.status.busy": "2023-10-16T16:44:11.030187Z",
     "iopub.status.idle": "2023-10-16T16:44:11.070482Z",
     "shell.execute_reply": "2023-10-16T16:44:11.068329Z"
    },
    "papermill": {
     "duration": 0.057077,
     "end_time": "2023-10-16T16:44:11.073673",
     "exception": false,
     "start_time": "2023-10-16T16:44:11.016596",
     "status": "completed"
    },
    "tags": []
   },
   "outputs": [
    {
     "data": {
      "text/html": [
       "<table class=\"dataframe\">\n",
       "<caption>A tibble: 10 × 9</caption>\n",
       "<thead>\n",
       "\t<tr><th scope=col>Position</th><th scope=col>Artist Name</th><th scope=col>Song Name</th><th scope=col>Days</th><th scope=col>Peak Position (n Times)</th><th scope=col>Peak Position</th><th scope=col>Top 10 (n Times)</th><th scope=col>Peak Streams</th><th scope=col>Total Streams</th></tr>\n",
       "\t<tr><th scope=col>&lt;dbl&gt;</th><th scope=col>&lt;chr&gt;</th><th scope=col>&lt;chr&gt;</th><th scope=col>&lt;dbl&gt;</th><th scope=col>&lt;dbl&gt;</th><th scope=col>&lt;dbl&gt;</th><th scope=col>&lt;chr&gt;</th><th scope=col>&lt;dbl&gt;</th><th scope=col>&lt;dbl&gt;</th></tr>\n",
       "</thead>\n",
       "<tbody>\n",
       "\t<tr><td> 1</td><td>Post Malone </td><td>Sunflower  SpiderMan: Into the SpiderVerse</td><td>1506</td><td>302</td><td>1</td><td>(x29) </td><td>2118242</td><td>883369738</td></tr>\n",
       "\t<tr><td> 2</td><td>Juice WRLD  </td><td>Lucid Dreams                              </td><td>1673</td><td>178</td><td>1</td><td>(x20) </td><td>2127668</td><td>864832399</td></tr>\n",
       "\t<tr><td> 3</td><td>Lil Uzi Vert</td><td>XO TOUR Llif3                             </td><td>1853</td><td>212</td><td>1</td><td>(x4)  </td><td>1660502</td><td>781153024</td></tr>\n",
       "\t<tr><td> 4</td><td>J. Cole     </td><td>No Role Modelz                            </td><td>2547</td><td>  6</td><td>7</td><td>0     </td><td> 659366</td><td>734857487</td></tr>\n",
       "\t<tr><td> 5</td><td>Post Malone </td><td>rockstar                                  </td><td>1223</td><td>186</td><td>1</td><td>(x124)</td><td>2905678</td><td>718865961</td></tr>\n",
       "\t<tr><td> 6</td><td>Travis Scott</td><td>goosebumps                                </td><td>1995</td><td>  4</td><td>8</td><td>0     </td><td> 977275</td><td>672972704</td></tr>\n",
       "\t<tr><td> 7</td><td>The Weeknd  </td><td>Blinding Lights                           </td><td>1100</td><td>233</td><td>1</td><td>(x11) </td><td>2355059</td><td>644287953</td></tr>\n",
       "\t<tr><td> 8</td><td>XXXTENTACION</td><td>Jocelyn Flores                            </td><td>1673</td><td> 44</td><td>2</td><td>(x1)  </td><td>3175206</td><td>624457164</td></tr>\n",
       "\t<tr><td> 9</td><td>XXXTENTACION</td><td>SAD!                                      </td><td>1217</td><td>133</td><td>1</td><td>(x6)  </td><td>4437612</td><td>619879245</td></tr>\n",
       "\t<tr><td>10</td><td>Juice WRLD  </td><td>All Girls Are The Same                    </td><td>1681</td><td>  2</td><td>5</td><td>0     </td><td>1239152</td><td>613872384</td></tr>\n",
       "</tbody>\n",
       "</table>\n"
      ],
      "text/latex": [
       "A tibble: 10 × 9\n",
       "\\begin{tabular}{lllllllll}\n",
       " Position & Artist Name & Song Name & Days & Peak Position (n Times) & Peak Position & Top 10 (n Times) & Peak Streams & Total Streams\\\\\n",
       " <dbl> & <chr> & <chr> & <dbl> & <dbl> & <dbl> & <chr> & <dbl> & <dbl>\\\\\n",
       "\\hline\n",
       "\t  1 & Post Malone  & Sunflower  SpiderMan: Into the SpiderVerse & 1506 & 302 & 1 & (x29)  & 2118242 & 883369738\\\\\n",
       "\t  2 & Juice WRLD   & Lucid Dreams                               & 1673 & 178 & 1 & (x20)  & 2127668 & 864832399\\\\\n",
       "\t  3 & Lil Uzi Vert & XO TOUR Llif3                              & 1853 & 212 & 1 & (x4)   & 1660502 & 781153024\\\\\n",
       "\t  4 & J. Cole      & No Role Modelz                             & 2547 &   6 & 7 & 0      &  659366 & 734857487\\\\\n",
       "\t  5 & Post Malone  & rockstar                                   & 1223 & 186 & 1 & (x124) & 2905678 & 718865961\\\\\n",
       "\t  6 & Travis Scott & goosebumps                                 & 1995 &   4 & 8 & 0      &  977275 & 672972704\\\\\n",
       "\t  7 & The Weeknd   & Blinding Lights                            & 1100 & 233 & 1 & (x11)  & 2355059 & 644287953\\\\\n",
       "\t  8 & XXXTENTACION & Jocelyn Flores                             & 1673 &  44 & 2 & (x1)   & 3175206 & 624457164\\\\\n",
       "\t  9 & XXXTENTACION & SAD!                                       & 1217 & 133 & 1 & (x6)   & 4437612 & 619879245\\\\\n",
       "\t 10 & Juice WRLD   & All Girls Are The Same                     & 1681 &   2 & 5 & 0      & 1239152 & 613872384\\\\\n",
       "\\end{tabular}\n"
      ],
      "text/markdown": [
       "\n",
       "A tibble: 10 × 9\n",
       "\n",
       "| Position &lt;dbl&gt; | Artist Name &lt;chr&gt; | Song Name &lt;chr&gt; | Days &lt;dbl&gt; | Peak Position (n Times) &lt;dbl&gt; | Peak Position &lt;dbl&gt; | Top 10 (n Times) &lt;chr&gt; | Peak Streams &lt;dbl&gt; | Total Streams &lt;dbl&gt; |\n",
       "|---|---|---|---|---|---|---|---|---|\n",
       "|  1 | Post Malone  | Sunflower  SpiderMan: Into the SpiderVerse | 1506 | 302 | 1 | (x29)  | 2118242 | 883369738 |\n",
       "|  2 | Juice WRLD   | Lucid Dreams                               | 1673 | 178 | 1 | (x20)  | 2127668 | 864832399 |\n",
       "|  3 | Lil Uzi Vert | XO TOUR Llif3                              | 1853 | 212 | 1 | (x4)   | 1660502 | 781153024 |\n",
       "|  4 | J. Cole      | No Role Modelz                             | 2547 |   6 | 7 | 0      |  659366 | 734857487 |\n",
       "|  5 | Post Malone  | rockstar                                   | 1223 | 186 | 1 | (x124) | 2905678 | 718865961 |\n",
       "|  6 | Travis Scott | goosebumps                                 | 1995 |   4 | 8 | 0      |  977275 | 672972704 |\n",
       "|  7 | The Weeknd   | Blinding Lights                            | 1100 | 233 | 1 | (x11)  | 2355059 | 644287953 |\n",
       "|  8 | XXXTENTACION | Jocelyn Flores                             | 1673 |  44 | 2 | (x1)   | 3175206 | 624457164 |\n",
       "|  9 | XXXTENTACION | SAD!                                       | 1217 | 133 | 1 | (x6)   | 4437612 | 619879245 |\n",
       "| 10 | Juice WRLD   | All Girls Are The Same                     | 1681 |   2 | 5 | 0      | 1239152 | 613872384 |\n",
       "\n"
      ],
      "text/plain": [
       "   Position Artist Name  Song Name                                  Days\n",
       "1   1       Post Malone  Sunflower  SpiderMan: Into the SpiderVerse 1506\n",
       "2   2       Juice WRLD   Lucid Dreams                               1673\n",
       "3   3       Lil Uzi Vert XO TOUR Llif3                              1853\n",
       "4   4       J. Cole      No Role Modelz                             2547\n",
       "5   5       Post Malone  rockstar                                   1223\n",
       "6   6       Travis Scott goosebumps                                 1995\n",
       "7   7       The Weeknd   Blinding Lights                            1100\n",
       "8   8       XXXTENTACION Jocelyn Flores                             1673\n",
       "9   9       XXXTENTACION SAD!                                       1217\n",
       "10 10       Juice WRLD   All Girls Are The Same                     1681\n",
       "   Peak Position (n Times) Peak Position Top 10 (n Times) Peak Streams\n",
       "1  302                     1             (x29)            2118242     \n",
       "2  178                     1             (x20)            2127668     \n",
       "3  212                     1             (x4)             1660502     \n",
       "4    6                     7             0                 659366     \n",
       "5  186                     1             (x124)           2905678     \n",
       "6    4                     8             0                 977275     \n",
       "7  233                     1             (x11)            2355059     \n",
       "8   44                     2             (x1)             3175206     \n",
       "9  133                     1             (x6)             4437612     \n",
       "10   2                     5             0                1239152     \n",
       "   Total Streams\n",
       "1  883369738    \n",
       "2  864832399    \n",
       "3  781153024    \n",
       "4  734857487    \n",
       "5  718865961    \n",
       "6  672972704    \n",
       "7  644287953    \n",
       "8  624457164    \n",
       "9  619879245    \n",
       "10 613872384    "
      ]
     },
     "metadata": {},
     "output_type": "display_data"
    }
   ],
   "source": [
    "View(top10_Songs_Streams)"
   ]
  },
  {
   "cell_type": "markdown",
   "id": "e217700f",
   "metadata": {
    "papermill": {
     "duration": 0.010485,
     "end_time": "2023-10-16T16:44:11.095018",
     "exception": false,
     "start_time": "2023-10-16T16:44:11.084533",
     "status": "completed"
    },
    "tags": []
   },
   "source": [
    "<br>\n",
    "\n",
    "Creating separate dataframe with top 10 artists with respect to no of times they hit the peak."
   ]
  },
  {
   "cell_type": "code",
   "execution_count": 18,
   "id": "a454200b",
   "metadata": {
    "execution": {
     "iopub.execute_input": "2023-10-16T16:44:11.126397Z",
     "iopub.status.busy": "2023-10-16T16:44:11.118631Z",
     "iopub.status.idle": "2023-10-16T16:44:11.158940Z",
     "shell.execute_reply": "2023-10-16T16:44:11.157194Z"
    },
    "papermill": {
     "duration": 0.056405,
     "end_time": "2023-10-16T16:44:11.162128",
     "exception": false,
     "start_time": "2023-10-16T16:44:11.105723",
     "status": "completed"
    },
    "tags": []
   },
   "outputs": [],
   "source": [
    "# Group by Artist Name, count the number of times each artist entered the top \"Peak Position (n Times),\" and arrange in descending order\n",
    "top_10_artists_peak_count <- mydata %>%\n",
    "  group_by(`Artist Name`) %>%\n",
    "  summarize(Peak_Position_Count = sum(`Peak Position (n Times)`)) %>%\n",
    "  arrange(desc(Peak_Position_Count)) %>%\n",
    "  head(10)\n",
    "\n",
    "top10_Artists_nPeaks <- top_10_artists_peak_count"
   ]
  },
  {
   "cell_type": "code",
   "execution_count": 19,
   "id": "fe2c2748",
   "metadata": {
    "execution": {
     "iopub.execute_input": "2023-10-16T16:44:11.188480Z",
     "iopub.status.busy": "2023-10-16T16:44:11.186880Z",
     "iopub.status.idle": "2023-10-16T16:44:11.213185Z",
     "shell.execute_reply": "2023-10-16T16:44:11.211411Z"
    },
    "papermill": {
     "duration": 0.041857,
     "end_time": "2023-10-16T16:44:11.215504",
     "exception": false,
     "start_time": "2023-10-16T16:44:11.173647",
     "status": "completed"
    },
    "tags": []
   },
   "outputs": [
    {
     "data": {
      "text/html": [
       "<table class=\"dataframe\">\n",
       "<caption>A tibble: 10 × 2</caption>\n",
       "<thead>\n",
       "\t<tr><th scope=col>Artist Name</th><th scope=col>Peak_Position_Count</th></tr>\n",
       "\t<tr><th scope=col>&lt;chr&gt;</th><th scope=col>&lt;dbl&gt;</th></tr>\n",
       "</thead>\n",
       "<tbody>\n",
       "\t<tr><td>Drake           </td><td>2364</td></tr>\n",
       "\t<tr><td>Post Malone     </td><td>1706</td></tr>\n",
       "\t<tr><td>The Weeknd      </td><td>1157</td></tr>\n",
       "\t<tr><td>Ariana Grande   </td><td> 769</td></tr>\n",
       "\t<tr><td>Justin Bieber   </td><td> 675</td></tr>\n",
       "\t<tr><td>Lil Nas X       </td><td> 641</td></tr>\n",
       "\t<tr><td>Juice WRLD      </td><td> 618</td></tr>\n",
       "\t<tr><td>Taylor Swift    </td><td> 615</td></tr>\n",
       "\t<tr><td>Olivia Rodrigo  </td><td> 556</td></tr>\n",
       "\t<tr><td>The Chainsmokers</td><td> 503</td></tr>\n",
       "</tbody>\n",
       "</table>\n"
      ],
      "text/latex": [
       "A tibble: 10 × 2\n",
       "\\begin{tabular}{ll}\n",
       " Artist Name & Peak\\_Position\\_Count\\\\\n",
       " <chr> & <dbl>\\\\\n",
       "\\hline\n",
       "\t Drake            & 2364\\\\\n",
       "\t Post Malone      & 1706\\\\\n",
       "\t The Weeknd       & 1157\\\\\n",
       "\t Ariana Grande    &  769\\\\\n",
       "\t Justin Bieber    &  675\\\\\n",
       "\t Lil Nas X        &  641\\\\\n",
       "\t Juice WRLD       &  618\\\\\n",
       "\t Taylor Swift     &  615\\\\\n",
       "\t Olivia Rodrigo   &  556\\\\\n",
       "\t The Chainsmokers &  503\\\\\n",
       "\\end{tabular}\n"
      ],
      "text/markdown": [
       "\n",
       "A tibble: 10 × 2\n",
       "\n",
       "| Artist Name &lt;chr&gt; | Peak_Position_Count &lt;dbl&gt; |\n",
       "|---|---|\n",
       "| Drake            | 2364 |\n",
       "| Post Malone      | 1706 |\n",
       "| The Weeknd       | 1157 |\n",
       "| Ariana Grande    |  769 |\n",
       "| Justin Bieber    |  675 |\n",
       "| Lil Nas X        |  641 |\n",
       "| Juice WRLD       |  618 |\n",
       "| Taylor Swift     |  615 |\n",
       "| Olivia Rodrigo   |  556 |\n",
       "| The Chainsmokers |  503 |\n",
       "\n"
      ],
      "text/plain": [
       "   Artist Name      Peak_Position_Count\n",
       "1  Drake            2364               \n",
       "2  Post Malone      1706               \n",
       "3  The Weeknd       1157               \n",
       "4  Ariana Grande     769               \n",
       "5  Justin Bieber     675               \n",
       "6  Lil Nas X         641               \n",
       "7  Juice WRLD        618               \n",
       "8  Taylor Swift      615               \n",
       "9  Olivia Rodrigo    556               \n",
       "10 The Chainsmokers  503               "
      ]
     },
     "metadata": {},
     "output_type": "display_data"
    }
   ],
   "source": [
    "View(top10_Artists_nPeaks)"
   ]
  },
  {
   "cell_type": "markdown",
   "id": "82197be0",
   "metadata": {
    "papermill": {
     "duration": 0.011706,
     "end_time": "2023-10-16T16:44:11.238341",
     "exception": false,
     "start_time": "2023-10-16T16:44:11.226635",
     "status": "completed"
    },
    "tags": []
   },
   "source": [
    "<br>\n",
    "\n",
    "Creating separate dataframe with top 10 songs with respect to no of times it hit the peak"
   ]
  },
  {
   "cell_type": "code",
   "execution_count": 20,
   "id": "adaa7217",
   "metadata": {
    "execution": {
     "iopub.execute_input": "2023-10-16T16:44:11.263940Z",
     "iopub.status.busy": "2023-10-16T16:44:11.262189Z",
     "iopub.status.idle": "2023-10-16T16:44:11.350156Z",
     "shell.execute_reply": "2023-10-16T16:44:11.348223Z"
    },
    "papermill": {
     "duration": 0.103144,
     "end_time": "2023-10-16T16:44:11.352421",
     "exception": false,
     "start_time": "2023-10-16T16:44:11.249277",
     "status": "completed"
    },
    "tags": []
   },
   "outputs": [],
   "source": [
    "# Group by Song Name, count the number of times it entered the top \"Peak Position (n Times)\", and arrange in descending order\n",
    "top_10_songs_peak_count <- mydata %>%\n",
    "  group_by(`Song Name`) %>%\n",
    "  summarize(Peak_Count = sum(`Peak Position (n Times)`)) %>%\n",
    "  arrange(desc(Peak_Count)) %>%\n",
    "  head(10)\n",
    "\n",
    "# Filter the original data frame to include only the top 10 songs by Peak Position (n Times)\n",
    "filtered_peak_count_data <- mydata %>%\n",
    "  filter(`Song Name` %in% top_10_songs_peak_count$`Song Name`)\n",
    "\n",
    "top10_Songs_nPeaks <- top_10_songs_peak_count"
   ]
  },
  {
   "cell_type": "code",
   "execution_count": 21,
   "id": "a3447154",
   "metadata": {
    "execution": {
     "iopub.execute_input": "2023-10-16T16:44:11.377938Z",
     "iopub.status.busy": "2023-10-16T16:44:11.376435Z",
     "iopub.status.idle": "2023-10-16T16:44:11.402120Z",
     "shell.execute_reply": "2023-10-16T16:44:11.400467Z"
    },
    "papermill": {
     "duration": 0.041089,
     "end_time": "2023-10-16T16:44:11.404451",
     "exception": false,
     "start_time": "2023-10-16T16:44:11.363362",
     "status": "completed"
    },
    "tags": []
   },
   "outputs": [
    {
     "data": {
      "text/html": [
       "<table class=\"dataframe\">\n",
       "<caption>A tibble: 10 × 2</caption>\n",
       "<thead>\n",
       "\t<tr><th scope=col>Song Name</th><th scope=col>Peak_Count</th></tr>\n",
       "\t<tr><th scope=col>&lt;chr&gt;</th><th scope=col>&lt;dbl&gt;</th></tr>\n",
       "</thead>\n",
       "<tbody>\n",
       "\t<tr><td>Sunflower  SpiderMan: Into the SpiderVerse</td><td>302</td></tr>\n",
       "\t<tr><td>Stay                                      </td><td>290</td></tr>\n",
       "\t<tr><td>INDUSTRY BABY                             </td><td>267</td></tr>\n",
       "\t<tr><td>Heat Waves                                </td><td>248</td></tr>\n",
       "\t<tr><td>Blinding Lights                           </td><td>233</td></tr>\n",
       "\t<tr><td>XO TOUR Llif3                             </td><td>212</td></tr>\n",
       "\t<tr><td>As It Was                                 </td><td>203</td></tr>\n",
       "\t<tr><td>The Box                                   </td><td>197</td></tr>\n",
       "\t<tr><td>The Hills                                 </td><td>194</td></tr>\n",
       "\t<tr><td>SICKO MODE                                </td><td>190</td></tr>\n",
       "</tbody>\n",
       "</table>\n"
      ],
      "text/latex": [
       "A tibble: 10 × 2\n",
       "\\begin{tabular}{ll}\n",
       " Song Name & Peak\\_Count\\\\\n",
       " <chr> & <dbl>\\\\\n",
       "\\hline\n",
       "\t Sunflower  SpiderMan: Into the SpiderVerse & 302\\\\\n",
       "\t Stay                                       & 290\\\\\n",
       "\t INDUSTRY BABY                              & 267\\\\\n",
       "\t Heat Waves                                 & 248\\\\\n",
       "\t Blinding Lights                            & 233\\\\\n",
       "\t XO TOUR Llif3                              & 212\\\\\n",
       "\t As It Was                                  & 203\\\\\n",
       "\t The Box                                    & 197\\\\\n",
       "\t The Hills                                  & 194\\\\\n",
       "\t SICKO MODE                                 & 190\\\\\n",
       "\\end{tabular}\n"
      ],
      "text/markdown": [
       "\n",
       "A tibble: 10 × 2\n",
       "\n",
       "| Song Name &lt;chr&gt; | Peak_Count &lt;dbl&gt; |\n",
       "|---|---|\n",
       "| Sunflower  SpiderMan: Into the SpiderVerse | 302 |\n",
       "| Stay                                       | 290 |\n",
       "| INDUSTRY BABY                              | 267 |\n",
       "| Heat Waves                                 | 248 |\n",
       "| Blinding Lights                            | 233 |\n",
       "| XO TOUR Llif3                              | 212 |\n",
       "| As It Was                                  | 203 |\n",
       "| The Box                                    | 197 |\n",
       "| The Hills                                  | 194 |\n",
       "| SICKO MODE                                 | 190 |\n",
       "\n"
      ],
      "text/plain": [
       "   Song Name                                  Peak_Count\n",
       "1  Sunflower  SpiderMan: Into the SpiderVerse 302       \n",
       "2  Stay                                       290       \n",
       "3  INDUSTRY BABY                              267       \n",
       "4  Heat Waves                                 248       \n",
       "5  Blinding Lights                            233       \n",
       "6  XO TOUR Llif3                              212       \n",
       "7  As It Was                                  203       \n",
       "8  The Box                                    197       \n",
       "9  The Hills                                  194       \n",
       "10 SICKO MODE                                 190       "
      ]
     },
     "metadata": {},
     "output_type": "display_data"
    }
   ],
   "source": [
    "View(top10_Songs_nPeaks)"
   ]
  },
  {
   "cell_type": "markdown",
   "id": "42727654",
   "metadata": {
    "papermill": {
     "duration": 0.010859,
     "end_time": "2023-10-16T16:44:11.426329",
     "exception": false,
     "start_time": "2023-10-16T16:44:11.415470",
     "status": "completed"
    },
    "tags": []
   },
   "source": [
    "<br>\n",
    "\n",
    "------------------------------------------------------------------------\n",
    "\n",
    "# **Share**\n",
    "\n",
    "------------------------------------------------------------------------\n",
    "\n",
    "In the \"Share\" phase, we'll communicate our analysis results through visually appealing graphics, simplifying complex data to make it more accessible and engaging.\n",
    "\n",
    "<br>\n",
    "\n",
    "Bar Chart Representing top 10 Artists with most number of songs."
   ]
  },
  {
   "cell_type": "code",
   "execution_count": 22,
   "id": "f79b5704",
   "metadata": {
    "execution": {
     "iopub.execute_input": "2023-10-16T16:44:11.452807Z",
     "iopub.status.busy": "2023-10-16T16:44:11.451128Z",
     "iopub.status.idle": "2023-10-16T16:44:12.087373Z",
     "shell.execute_reply": "2023-10-16T16:44:12.085486Z"
    },
    "papermill": {
     "duration": 0.651818,
     "end_time": "2023-10-16T16:44:12.089548",
     "exception": false,
     "start_time": "2023-10-16T16:44:11.437730",
     "status": "completed"
    },
    "tags": []
   },
   "outputs": [
    {
     "data": {
      "image/png": "[encoded data removed]"
     },
     "metadata": {
      "image/png": {
       "height": 420,
       "width": 420
      }
     },
     "output_type": "display_data"
    }
   ],
   "source": [
    "#Bar Chart of Artists with most number of songs\n",
    "top_10_artists %>% \n",
    "  ggplot(top_10_artists, mapping = aes(x=`Artist Name`, y=`Count`, fill=`Count`))+ \n",
    "  geom_bar(position = \"dodge\", stat=\"identity\")+\n",
    "  scale_fill_gradient(low = \"grey20\", high = \"springgreen3\")+\n",
    "  theme_light()+\n",
    "  theme(axis.text.x = element_text(angle = 90, vjust = 0.5, hjust = 1))"
   ]
  },
  {
   "cell_type": "markdown",
   "id": "30a34901",
   "metadata": {
    "papermill": {
     "duration": 0.012915,
     "end_time": "2023-10-16T16:44:12.114498",
     "exception": false,
     "start_time": "2023-10-16T16:44:12.101583",
     "status": "completed"
    },
    "tags": []
   },
   "source": [
    "Bar Chart Representing Top 10 Artists with respect to number of streams."
   ]
  },
  {
   "cell_type": "code",
   "execution_count": 23,
   "id": "c787080c",
   "metadata": {
    "execution": {
     "iopub.execute_input": "2023-10-16T16:44:12.142858Z",
     "iopub.status.busy": "2023-10-16T16:44:12.141216Z",
     "iopub.status.idle": "2023-10-16T16:44:12.483988Z",
     "shell.execute_reply": "2023-10-16T16:44:12.482113Z"
    },
    "papermill": {
     "duration": 0.35963,
     "end_time": "2023-10-16T16:44:12.486417",
     "exception": false,
     "start_time": "2023-10-16T16:44:12.126787",
     "status": "completed"
    },
    "tags": []
   },
   "outputs": [
    {
     "data": {
      "image/png": "[encoded data removed]"
     },
     "metadata": {
      "image/png": {
       "height": 420,
       "width": 420
      }
     },
     "output_type": "display_data"
    }
   ],
   "source": [
    "#Bar Chart of Artists with respect to Streams\n",
    "top10_artists_Streams %>% \n",
    "  ggplot(top10_artists_Streams, mapping = aes(x=`Artist Name`, y=`Total Streams`, fill=`Total Streams`))+ \n",
    "  geom_bar(position = \"dodge\", stat=\"identity\")+\n",
    "  scale_fill_gradient(low = \"grey20\", high = \"springgreen3\")+\n",
    "  theme_light()+\n",
    "  theme(axis.text.x = element_text(angle = 90, vjust = 0.5, hjust = 1))"
   ]
  },
  {
   "cell_type": "markdown",
   "id": "d018f988",
   "metadata": {
    "papermill": {
     "duration": 0.01278,
     "end_time": "2023-10-16T16:44:12.512637",
     "exception": false,
     "start_time": "2023-10-16T16:44:12.499857",
     "status": "completed"
    },
    "tags": []
   },
   "source": [
    "Bar Chart Representing Top 10 Songs with respect to number of streams."
   ]
  },
  {
   "cell_type": "code",
   "execution_count": 24,
   "id": "bd9b6330",
   "metadata": {
    "execution": {
     "iopub.execute_input": "2023-10-16T16:44:12.550533Z",
     "iopub.status.busy": "2023-10-16T16:44:12.541621Z",
     "iopub.status.idle": "2023-10-16T16:44:12.886089Z",
     "shell.execute_reply": "2023-10-16T16:44:12.877201Z"
    },
    "papermill": {
     "duration": 0.363555,
     "end_time": "2023-10-16T16:44:12.889284",
     "exception": false,
     "start_time": "2023-10-16T16:44:12.525729",
     "status": "completed"
    },
    "tags": []
   },
   "outputs": [
    {
     "data": {
      "image/png": "[encoded data removed]"
     },
     "metadata": {
      "image/png": {
       "height": 420,
       "width": 420
      }
     },
     "output_type": "display_data"
    }
   ],
   "source": [
    "#Bar Chart of Songs with respect to Streams\n",
    "top10_Songs_Streams %>% \n",
    "  ggplot(top10_Songs_Streams, mapping = aes(x=`Song Name`, y=`Total Streams`, fill=`Total Streams`))+ \n",
    "  geom_bar(position = \"dodge\", stat=\"identity\")+\n",
    "  scale_fill_gradient(low = \"grey20\", high = \"springgreen3\")+\n",
    "  theme_light()+\n",
    "  theme(axis.text.x = element_text(angle = 90, vjust = 0.5, hjust = 1))+labs(height=10, width=5)+\n",
    "  geom_text(aes(label = `Artist Name`),color=\"white\",hjust= 1.5, vjust = 0, size = 3, angle = 90, position = position_dodge(width = 1))"
   ]
  },
  {
   "cell_type": "markdown",
   "id": "d5c2c36c",
   "metadata": {
    "papermill": {
     "duration": 0.01578,
     "end_time": "2023-10-16T16:44:12.920547",
     "exception": false,
     "start_time": "2023-10-16T16:44:12.904767",
     "status": "completed"
    },
    "tags": []
   },
   "source": [
    "Bar Chart Representing Top 10 Artists with respect to number of they reached the peak."
   ]
  },
  {
   "cell_type": "code",
   "execution_count": 25,
   "id": "91ee6df7",
   "metadata": {
    "execution": {
     "iopub.execute_input": "2023-10-16T16:44:12.951750Z",
     "iopub.status.busy": "2023-10-16T16:44:12.950193Z",
     "iopub.status.idle": "2023-10-16T16:44:13.242408Z",
     "shell.execute_reply": "2023-10-16T16:44:13.240435Z"
    },
    "papermill": {
     "duration": 0.310104,
     "end_time": "2023-10-16T16:44:13.244728",
     "exception": false,
     "start_time": "2023-10-16T16:44:12.934624",
     "status": "completed"
    },
    "tags": []
   },
   "outputs": [
    {
     "data": {
      "image/png": "[encoded data removed]"
     },
     "metadata": {
      "image/png": {
       "height": 420,
       "width": 420
      }
     },
     "output_type": "display_data"
    }
   ],
   "source": [
    "#Bar Chart of Artists with respect to number of time they hit the peak\n",
    "top10_Artists_nPeaks %>% \n",
    "  ggplot(top10_Artists_nPeaks, mapping = aes(x=`Artist Name`, y=`Peak_Position_Count`, fill=`Peak_Position_Count`))+ \n",
    "  geom_bar(position = \"dodge\", stat=\"identity\")+\n",
    "  scale_fill_gradient(low = \"grey20\", high = \"springgreen3\")+\n",
    "  theme_light()+\n",
    "  theme(axis.text.x = element_text(angle = 90, vjust = 0.5, hjust = 1))+labs(height=10, width=5)"
   ]
  },
  {
   "cell_type": "markdown",
   "id": "d9b1cc29",
   "metadata": {
    "papermill": {
     "duration": 0.01478,
     "end_time": "2023-10-16T16:44:13.275636",
     "exception": false,
     "start_time": "2023-10-16T16:44:13.260856",
     "status": "completed"
    },
    "tags": []
   },
   "source": [
    "Bar Chart Representing Top 10 Songs with respect to number of they hit the peak."
   ]
  },
  {
   "cell_type": "code",
   "execution_count": 26,
   "id": "de203c75",
   "metadata": {
    "execution": {
     "iopub.execute_input": "2023-10-16T16:44:13.312029Z",
     "iopub.status.busy": "2023-10-16T16:44:13.310385Z",
     "iopub.status.idle": "2023-10-16T16:44:13.617640Z",
     "shell.execute_reply": "2023-10-16T16:44:13.615662Z"
    },
    "papermill": {
     "duration": 0.327876,
     "end_time": "2023-10-16T16:44:13.619869",
     "exception": false,
     "start_time": "2023-10-16T16:44:13.291993",
     "status": "completed"
    },
    "tags": []
   },
   "outputs": [
    {
     "data": {
      "image/png": "[encoded data removed]"
     },
     "metadata": {
      "image/png": {
       "height": 420,
       "width": 420
      }
     },
     "output_type": "display_data"
    }
   ],
   "source": [
    "#Bar Chart of Songs with respect to number of time they hit the peak\n",
    "top10_Songs_nPeaks %>% \n",
    "  ggplot(top10_Songs_nPeaks, mapping = aes(x=`Song Name`, y=`Peak_Count`, fill=`Peak_Count`))+ \n",
    "  geom_bar(position = \"dodge\", stat=\"identity\")+\n",
    "  scale_fill_gradient(low = \"grey20\", high = \"springgreen3\")+\n",
    "  theme_light()+\n",
    "  theme(axis.text.x = element_text(angle = 90, vjust = 0.5, hjust = 1))+labs(height=10, width=5)"
   ]
  },
  {
   "cell_type": "markdown",
   "id": "51bad7e9",
   "metadata": {
    "papermill": {
     "duration": 0.015527,
     "end_time": "2023-10-16T16:44:13.651493",
     "exception": false,
     "start_time": "2023-10-16T16:44:13.635966",
     "status": "completed"
    },
    "tags": []
   },
   "source": [
    "\n",
    "<br>\n",
    "\n",
    "------------------------------------------------------------------------\n",
    "\n",
    "# **Act (Conclusion)**\n",
    "\n",
    "------------------------------------------------------------------------\n",
    "\n",
    "According the above analysis we found these meaningful insights.\n",
    "\n",
    "-   Drake is concluded to be the dominant artist with 200+ songs published, over 500 million artist streams.\n",
    "-   Drake also reached top postion more than 2300+ times, this is the highest by any artist.\n",
    "-   It is also concluded that Post Malone and his song \"Sunflower SpiderMan: Into the SpiderVerse\" has more number of streams.\n",
    "-   Post malone and his song \"Sunflower SpiderMan: Into the SpiderVerse\" has peaked the streaming chart with approximately 883.37 billion total streams and 2.12 billion peak streams.\n",
    "-   Post malone also reached the top postion second most number of times after Drake that is 1700+ times.\n",
    "\n",
    "Hence it is finally concluded that Drake and Post Malone dominates the Spotify Playlists.\n",
    "\n",
    "------------------------------------------------------------------------\n",
    "\n",
    "***Author's Message:*** *If you've found my analysis helpful, please upvote and feel free to reach out for support or inquiries. Thank you!*\n",
    "\n",
    "------------------------------------------------------------------------"
   ]
  }
 ],
 "metadata": {
  "kernelspec": {
   "display_name": "R",
   "language": "R",
   "name": "ir"
  },
  "language_info": {
   "codemirror_mode": "r",
   "file_extension": ".r",
   "mimetype": "text/x-r-source",
   "name": "R",
   "pygments_lexer": "r",
   "version": "4.0.5"
  },
  "papermill": {
   "default_parameters": {},
   "duration": 9.735457,
   "end_time": "2023-10-16T16:44:13.789397",
   "environment_variables": {},
   "exception": null,
   "input_path": "__notebook__.ipynb",
   "output_path": "__notebook__.ipynb",
   "parameters": {},
   "start_time": "2023-10-16T16:44:04.053940",
   "version": "2.4.0"
  }
 },
 "nbformat": 4,
 "nbformat_minor": 5
}
